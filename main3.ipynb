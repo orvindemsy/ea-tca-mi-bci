{
 "cells": [
  {
   "cell_type": "markdown",
   "metadata": {},
   "source": [
    "# EA-CSP-TCA"
   ]
  },
  {
   "cell_type": "code",
   "execution_count": 1,
   "metadata": {},
   "outputs": [],
   "source": [
    "import sys\n",
    "sys.path.append('D:\\Google_Drive\\JupyterNotebookProjects\\bci-research\\EA+CSP+TCA\\csp')\n",
    "sys.path.append('D:\\Google_Drive\\JupyterNotebookProjects\\bci-research\\EA+CSP+TCA\\func')"
   ]
  },
  {
   "cell_type": "code",
   "execution_count": 2,
   "metadata": {},
   "outputs": [],
   "source": [
    "import numpy as np\n",
    "import matplotlib.pyplot as plt\n",
    "import pandas as pd\n",
    "import seaborn as sns\n",
    "import moabb.datasets\n",
    "import moabb.paradigms\n",
    "\n",
    "from copy import deepcopy\n",
    "from csp.utils import subject_counter\n",
    "from csp.preprocess import fir_bandpass, apply_bandpass, fetch_left_right_EEG\n",
    "from csp.preprocess import split_EEG_one_class, process_s_data\n",
    "from csp.feat_extraction import compute_Z, feat_vector, true_label\n",
    "from csp.csp import CSP\n",
    "\n",
    "# Set float number print options\n",
    "np.set_printoptions(formatter={'float': '{: 0.3f}'.format})\n",
    "dframe = pd.DataFrame"
   ]
  },
  {
   "cell_type": "code",
   "execution_count": 3,
   "metadata": {},
   "outputs": [],
   "source": [
    "# First import the data\n",
    "\n",
    "# Number of subject, n + 1 for iteration purpose (there are 9 subjects)\n",
    "ns = 10\n",
    "\n",
    "# Creating dict to store original data and modified data\n",
    "# ori_data will serve as initial loaded data that will remain unchanged\n",
    "ori_data = dict()\n",
    "mod_data = dict() "
   ]
  },
  {
   "cell_type": "markdown",
   "metadata": {},
   "source": [
    "## Load Dataset"
   ]
  },
  {
   "cell_type": "code",
   "execution_count": 4,
   "metadata": {},
   "outputs": [],
   "source": [
    "import os\n",
    "\n",
    "# Iter over all data path then store them in sub0X variable\n",
    "for subj in range(1, 10):\n",
    "    path = '..\\..\\datasets\\BCICIV2a'\n",
    "    file = 'A{:02d}T.npz'.format(subj)\n",
    "    data_path = os.path.join(path, file)\n",
    "    \n",
    "    # Load EEG data from datapath and store into subj0X variabel then store into ori_dict\n",
    "    # Then also fetch 's' (EEG data) into mod_data\n",
    "    ori_data[subj] = np.load(data_path)\n",
    "    mod_data[subj] = {}\n",
    "    mod_data[subj]['s'] = deepcopy(ori_data[subj]['s'])\n",
    "    mod_data[subj]['etyp'] = deepcopy(ori_data[subj]['etyp'])\n",
    "    mod_data[subj]['epos'] = deepcopy(ori_data[subj]['epos'])\n",
    "    \n",
    "    # Remove last three EOG electrodes\n",
    "    mod_data[subj]['s'] = np.delete(mod_data[subj]['s'], np.s_[22:], 1)\n",
    "    \n",
    "    # Transpose s so that it's in shape of samples x n_electrodes\n",
    "    mod_data[subj]['s'] = mod_data[subj]['s'].T"
   ]
  },
  {
   "cell_type": "code",
   "execution_count": 5,
   "metadata": {},
   "outputs": [
    {
     "data": {
      "text/plain": [
       "dict_keys(['s', 'etyp', 'epos'])"
      ]
     },
     "execution_count": 5,
     "metadata": {},
     "output_type": "execute_result"
    }
   ],
   "source": [
    "mod_data[1].keys()"
   ]
  },
  {
   "cell_type": "markdown",
   "metadata": {},
   "source": [
    "## Preprocessing"
   ]
  },
  {
   "cell_type": "markdown",
   "metadata": {},
   "source": [
    "### Bandpass Filter"
   ]
  },
  {
   "cell_type": "code",
   "execution_count": 6,
   "metadata": {},
   "outputs": [],
   "source": [
    "from scipy.signal import firwin, freqs, lfilter"
   ]
  },
  {
   "cell_type": "code",
   "execution_count": 7,
   "metadata": {},
   "outputs": [],
   "source": [
    "# Frequency sampling at 250Hz\n",
    "fs = 250\n",
    "\n",
    "## === Bandpass filter 8-39 Hz ====\n",
    "# Creating coefficient\n",
    "b = fir_bandpass(51, low=8, high=30, fs=fs)\n",
    "\n",
    "# Applying filter\n",
    "for subj in mod_data.keys():\n",
    "    temp_raw_EEG = mod_data[subj]['s']\n",
    "    \n",
    "    assert temp_raw_EEG.shape[0] < temp_raw_EEG.shape[1]\n",
    "    \n",
    "    mod_data[subj]['s_filt'] = apply_bandpass(temp_raw_EEG, b)"
   ]
  },
  {
   "cell_type": "markdown",
   "metadata": {},
   "source": [
    "### Convert n_samp x n_el -> n_trials x n_el x n_samp"
   ]
  },
  {
   "cell_type": "code",
   "execution_count": 8,
   "metadata": {},
   "outputs": [
    {
     "name": "stdout",
     "output_type": "stream",
     "text": [
      "Processing for subject 1\n",
      "Processing for subject 2\n",
      "Processing for subject 3\n",
      "Processing for subject 4\n",
      "Processing for subject 5\n",
      "Processing for subject 6\n",
      "Processing for subject 7\n",
      "Processing for subject 8\n",
      "Processing for subject 9\n"
     ]
    }
   ],
   "source": [
    "# Iterate overall all_data\n",
    "for subj in mod_data.keys():\n",
    "    print('Processing for subject', subj)\n",
    "    mod_data[subj]['epochs'], mod_data[subj]['y'], _ = process_s_data(data=mod_data[subj], eeg_key='s_filt', start_t=0.5, end_t=3.5, fs=250)\n",
    "    \n",
    "    # Make sure they are in correct size\n",
    "    assert mod_data[subj]['epochs'].shape[0] == 144\n",
    "    assert mod_data[subj]['epochs'].shape[1] == 22\n",
    "    assert mod_data[subj]['epochs'].shape[2] > 144    "
   ]
  },
  {
   "cell_type": "code",
   "execution_count": null,
   "metadata": {},
   "outputs": [],
   "source": []
  },
  {
   "cell_type": "markdown",
   "metadata": {},
   "source": [
    "## Apply Data Alignment on raw EEG"
   ]
  },
  {
   "cell_type": "code",
   "execution_count": 9,
   "metadata": {},
   "outputs": [],
   "source": [
    "from func.EA import apply_EA\n",
    "from func.csp_matlab import csp_feat_ver1"
   ]
  },
  {
   "cell_type": "code",
   "execution_count": 10,
   "metadata": {},
   "outputs": [
    {
     "data": {
      "text/plain": [
       "dict_keys(['s', 'etyp', 'epos', 's_filt', 'epochs', 'y'])"
      ]
     },
     "execution_count": 10,
     "metadata": {},
     "output_type": "execute_result"
    }
   ],
   "source": [
    "mod_data[1].keys()"
   ]
  },
  {
   "cell_type": "code",
   "execution_count": 11,
   "metadata": {},
   "outputs": [],
   "source": [
    "%%capture\n",
    "# Iterate over all subjects to apply EA to all trials\n",
    "# Define keys to be processed\n",
    "process_key = ['epochs']\n",
    "\n",
    "for subj in mod_data.keys():\n",
    "    print('Processing subject ', subj)\n",
    "    mod_data[subj]['epochs_EA']  = apply_EA(mod_data[subj], process_key)\n",
    "    print('')"
   ]
  },
  {
   "cell_type": "code",
   "execution_count": 12,
   "metadata": {},
   "outputs": [
    {
     "data": {
      "text/plain": [
       "dict_keys(['s', 'etyp', 'epos', 's_filt', 'epochs', 'y', 'RefEA', 'R_inv', 'epochs_EA'])"
      ]
     },
     "execution_count": 12,
     "metadata": {},
     "output_type": "execute_result"
    }
   ],
   "source": [
    "mod_data[1].keys()"
   ]
  },
  {
   "cell_type": "code",
   "execution_count": 13,
   "metadata": {},
   "outputs": [
    {
     "name": "stdout",
     "output_type": "stream",
     "text": [
      "Subject 1 Aligned!\n",
      "Subject 2 Aligned!\n",
      "Subject 3 Aligned!\n",
      "Subject 4 Aligned!\n",
      "Subject 5 Aligned!\n",
      "Subject 6 Aligned!\n",
      "Subject 7 Aligned!\n",
      "Subject 8 Aligned!\n",
      "Subject 9 Aligned!\n"
     ]
    }
   ],
   "source": [
    "# Sanity check that each subject EA data equal to identity matrix\n",
    "for subj in mod_data.keys():\n",
    "    all_trials = mod_data[subj]['epochs_EA']\n",
    "    all_cov = 0\n",
    "    \n",
    "    for tr in all_trials:\n",
    "        all_cov += np.cov(tr, rowvar=True, ddof=1)\n",
    "    \n",
    "    all_cov = all_cov/len(all_trials)\n",
    "    \n",
    "    assert np.round(np.diag(all_cov)).sum() == 22\n",
    "    print('Subject %d Aligned!' %subj)"
   ]
  },
  {
   "cell_type": "code",
   "execution_count": null,
   "metadata": {},
   "outputs": [],
   "source": []
  },
  {
   "cell_type": "markdown",
   "metadata": {},
   "source": [
    "# Visualizing using T-SNE\n",
    "Skip visualization"
   ]
  },
  {
   "cell_type": "code",
   "execution_count": 14,
   "metadata": {},
   "outputs": [],
   "source": [
    "from sklearn.manifold import TSNE\n",
    "from func.csp_matlab import csp_feat_no_test"
   ]
  },
  {
   "cell_type": "code",
   "execution_count": 15,
   "metadata": {},
   "outputs": [
    {
     "data": {
      "text/plain": [
       "dict_keys(['s', 'etyp', 'epos', 's_filt', 'epochs', 'y', 'RefEA', 'R_inv', 'epochs_EA'])"
      ]
     },
     "execution_count": 15,
     "metadata": {},
     "output_type": "execute_result"
    }
   ],
   "source": [
    "mod_data[1].keys()"
   ]
  },
  {
   "cell_type": "code",
   "execution_count": 16,
   "metadata": {},
   "outputs": [],
   "source": [
    "data = mod_data\n",
    "\n",
    "for subj in data.keys():\n",
    "    # Compute csp feature\n",
    "    data[subj]['all_feats'] = csp_feat_no_test(data[subj], eeg_key='epochs')\n",
    "    data[subj]['all_feats_EA'] = csp_feat_no_test(data[subj], eeg_key='epochs_EA')\n",
    "    \n",
    "    # Compute sne representation\n",
    "    # data[subj]['sne'] = {}\n",
    "    # data[subj]['sne']['no_EA'] = TSNE(perplexity=50, n_iter=2000, random_state=42).fit_transform(data[subj]['all_feats'])\n",
    "    # data[subj]['sne']['EA'] = TSNE(perplexity=50, n_iter=2000, random_state=42).fit_transform(data[subj]['all_feats_EA'])"
   ]
  },
  {
   "cell_type": "code",
   "execution_count": 17,
   "metadata": {},
   "outputs": [],
   "source": [
    "for subj in mod_data.keys():\n",
    "    assert mod_data[subj]['all_feats'].shape[0] == 144\n",
    "    assert mod_data[subj]['all_feats_EA'].shape[0] == 144 "
   ]
  },
  {
   "cell_type": "markdown",
   "metadata": {},
   "source": [
    "# Transfer Learning Case, CSP + TCA"
   ]
  },
  {
   "cell_type": "code",
   "execution_count": 18,
   "metadata": {},
   "outputs": [],
   "source": [
    "# Re-prepare data, redefine TL_data, delete existing content\n",
    "TL_data = {}\n",
    "TL_data['tgt'] = {}\n",
    "TL_data['src'] = {}\n",
    "\n",
    "for subj in mod_data.keys():\n",
    "    # TARGET\n",
    "    TL_data['tgt'][subj] = {}\n",
    "    TL_data['tgt'][subj]['epochs'] = deepcopy(mod_data[subj]['epochs'])\n",
    "    TL_data['tgt'][subj]['epochs_EA'] = deepcopy(mod_data[subj]['epochs_EA'])\n",
    "    TL_data['tgt'][subj]['all_feats'] = deepcopy(mod_data[subj]['all_feats'])\n",
    "    TL_data['tgt'][subj]['all_feats_EA'] = deepcopy(mod_data[subj]['all_feats_EA'])\n",
    "    TL_data['tgt'][subj]['y'] = deepcopy(mod_data[subj]['y'])    \n",
    "    \n",
    "    # SOURCE\n",
    "    TL_data['src'][subj] = {}\n",
    "    TL_data['src'][subj]['epochs']    = deepcopy(mod_data[subj]['epochs'])\n",
    "    TL_data['src'][subj]['epochs_EA'] = deepcopy(mod_data[subj]['epochs_EA'])\n",
    "    TL_data['src'][subj]['all_feats']     = deepcopy(mod_data[subj]['all_feats'])\n",
    "    TL_data['src'][subj]['all_feats_EA']  = deepcopy(mod_data[subj]['all_feats_EA'])\n",
    "    TL_data['src'][subj]['y'] = deepcopy(mod_data[subj]['y'])    "
   ]
  },
  {
   "cell_type": "code",
   "execution_count": 19,
   "metadata": {},
   "outputs": [
    {
     "data": {
      "text/plain": [
       "dict_keys([1, 2, 3, 4, 5, 6, 7, 8, 9])"
      ]
     },
     "execution_count": 19,
     "metadata": {},
     "output_type": "execute_result"
    }
   ],
   "source": [
    "TL_data['src'].keys()"
   ]
  },
  {
   "cell_type": "markdown",
   "metadata": {},
   "source": [
    "## `MMD`"
   ]
  },
  {
   "cell_type": "code",
   "execution_count": 20,
   "metadata": {},
   "outputs": [],
   "source": [
    "# Compute MMD (maximum mean discrepancy) using numpy and scikit-learn.\n",
    "\n",
    "import numpy as np\n",
    "from sklearn import metrics\n",
    "\n",
    "\n",
    "def mmd_linear(X, Y):\n",
    "    \"\"\"MMD using linear kernel (i.e., k(x,y) = <x,y>)\n",
    "    Note that this is not the original linear MMD, only the reformulated and faster version.\n",
    "    The original version is:\n",
    "        def mmd_linear(X, Y):\n",
    "            XX = np.dot(X, X.T)\n",
    "            YY = np.dot(Y, Y.T)\n",
    "            XY = np.dot(X, Y.T)\n",
    "            return XX.mean() + YY.mean() - 2 * XY.mean()\n",
    "    Arguments:\n",
    "        X {[n_sample1, dim]} -- [X matrix]\n",
    "        Y {[n_sample2, dim]} -- [Y matrix]\n",
    "    Returns:\n",
    "        [scalar] -- [MMD value]\n",
    "    \"\"\"\n",
    "    delta = X.mean(0) - Y.mean(0)\n",
    "    return delta.dot(delta.T)\n",
    "\n",
    "\n",
    "def mmd_rbf(X, Y, gamma=1.0):\n",
    "    \"\"\"MMD using rbf (gaussian) kernel (i.e., k(x,y) = exp(-gamma * ||x-y||^2 / 2))\n",
    "    Arguments:\n",
    "        X {[n_sample1, dim]} -- [X matrix]\n",
    "        Y {[n_sample2, dim]} -- [Y matrix]\n",
    "    Keyword Arguments:\n",
    "        gamma {float} -- [kernel parameter] (default: {1.0})\n",
    "    Returns:\n",
    "        [scalar] -- [MMD value]\n",
    "    \"\"\"\n",
    "    XX = metrics.pairwise.rbf_kernel(X, X, gamma)\n",
    "    YY = metrics.pairwise.rbf_kernel(Y, Y, gamma)\n",
    "    XY = metrics.pairwise.rbf_kernel(X, Y, gamma)\n",
    "    return XX.mean() + YY.mean() - 2 * XY.mean()\n",
    "\n",
    "\n",
    "def mmd_poly(X, Y, degree=2, gamma=1, coef0=0):\n",
    "    \"\"\"MMD using polynomial kernel (i.e., k(x,y) = (gamma <X, Y> + coef0)^degree)\n",
    "    Arguments:a\n",
    "        X {[n_sample1, dim]} -- [X matrix]\n",
    "        Y {[n_sample2, dim]} -- [Y matrix]\n",
    "    Keyword Arguments:\n",
    "        degree {int} -- [degree] (default: {2})\n",
    "        gamma {int} -- [gamma] (default: {1})\n",
    "        coef0 {int} -- [constant item] (default: {0})\n",
    "    Returns:\n",
    "        [scalar] -- [MMD value]\n",
    "    \"\"\"\n",
    "    XX = metrics.pairwise.polynomial_kernel(X, X, degree, gamma, coef0)\n",
    "    YY = metrics.pairwise.polynomial_kernel(Y, Y, degree, gamma, coef0)\n",
    "    XY = metrics.pairwise.polynomial_kernel(X, Y, degree, gamma, coef0)\n",
    "    return XX.mean() + YY.mean() - 2 * XY.mean()"
   ]
  },
  {
   "cell_type": "code",
   "execution_count": null,
   "metadata": {},
   "outputs": [],
   "source": []
  },
  {
   "cell_type": "markdown",
   "metadata": {},
   "source": [
    "## `TCA`"
   ]
  },
  {
   "cell_type": "code",
   "execution_count": 21,
   "metadata": {},
   "outputs": [],
   "source": [
    "import scipy.linalg\n",
    "import sklearn.metrics\n",
    "from sklearn.neighbors import KNeighborsClassifier\n",
    "\n",
    "def kernel(ker, X1, X2, degree=3, gamma=1, coef=1):\n",
    "    K = None\n",
    "    if not ker or ker == 'primal':\n",
    "        K = X1\n",
    "    elif ker == 'linear':\n",
    "        print(f'=== {ker} kernel ===')\n",
    "        if X2 is not None:\n",
    "            K = sklearn.metrics.pairwise.linear_kernel(np.asarray(X1).T, np.asarray(X2).T)\n",
    "        else:\n",
    "            K = sklearn.metrics.pairwise.linear_kernel(np.asarray(X1).T)\n",
    "    elif ker == 'rbf':\n",
    "        print(f'=== {ker} kernel ===')\n",
    "        if X2 is not None:\n",
    "            K = sklearn.metrics.pairwise.rbf_kernel(np.asarray(X1).T, np.asarray(X2).T, gamma)\n",
    "        else:\n",
    "            K = sklearn.metrics.pairwise.rbf_kernel(np.asarray(X1).T, None, gamma)\n",
    "            \n",
    "    elif ker == 'poly':\n",
    "        print(f'=== {ker} kernel ===')\n",
    "        if X2 is not None:\n",
    "            K = sklearn.metrics.pairwise.polynomial_kernel(np.asarray(X1).T, np.asarray(X2).T, degree, gamma, coef)\n",
    "        else:\n",
    "            K = sklearn.metrics.pairwise.polynomial_kernel(np.asarray(X1).T, None, degree, gamma, coef)\n",
    "            \n",
    "    return K"
   ]
  },
  {
   "cell_type": "code",
   "execution_count": 242,
   "metadata": {},
   "outputs": [],
   "source": [
    "# === TCA modified from original the following: ===\n",
    "# - handles incremental target data, + coef\n",
    "# - degree param\n",
    "# - with SVM classifier\n",
    "# - only returned real tca features (complex value may occurs when using linear kernel)\n",
    "\n",
    "class TCA:\n",
    "    def __init__(self, kernel_type='primal', dim=30, lamb=1, gamma=1, coef=1, degree=3):\n",
    "        '''\n",
    "        Init func\n",
    "        :param kernel_type: kernel, values: 'primal' | 'linear' | 'rbf'\n",
    "        :param dim: dimension after transfer\n",
    "        :param lamb: lambda value in equation\n",
    "        :param gamma: kernel bandwidth for rbf kernel\n",
    "        '''\n",
    "        self.kernel_type = kernel_type\n",
    "        self.dim    = dim\n",
    "        self.lamb   = lamb\n",
    "        self.gamma  = gamma\n",
    "        self.coef   = coef\n",
    "        self.degree = degree\n",
    "        self.W_proj = None\n",
    "        self.X_src2 = None\n",
    "        self.clf = None\n",
    "\n",
    "    def fit(self, Xs, Xt):\n",
    "        '''\n",
    "        Transform Xs and Xt\n",
    "        :param Xs: ns * n_feature, source feature\n",
    "        :param Xt: nt * n_feature, target feature\n",
    "        :return: Xs_new and Xt_new after TCA\n",
    "        '''\n",
    "        X = np.hstack((Xs.T, Xt.T))\n",
    "        X /= np.linalg.norm(X, axis=0)\n",
    "        m, n = X.shape\n",
    "        ns, nt = len(Xs), len(Xt)\n",
    "        e = np.vstack((1 / ns * np.ones((ns, 1)), -1 / nt * np.ones((nt, 1))))\n",
    "        M = e * e.T\n",
    "        M = M / np.linalg.norm(M, 'fro')\n",
    "        H = np.eye(n) - 1 / n * np.ones((n, n))\n",
    "        K = kernel(self.kernel_type, X, None, gamma=self.gamma, coef=self.coef, degree=self.degree)\n",
    "        n_eye = m if self.kernel_type == 'primal' else n\n",
    "        a, b = np.linalg.multi_dot([K, M, K.T]) + self.lamb * np.eye(n_eye), np.linalg.multi_dot([K, H, K.T])\n",
    "        w, V = scipy.linalg.eig(a, b)\n",
    "        ind = np.argsort(w)\n",
    "        A = V[:, ind[:self.dim]]\n",
    "        Z = np.dot(A.T, K)\n",
    "        Z /= np.linalg.norm(Z, axis=0)\n",
    "        \n",
    "        # Save projection matrix and X as new source\n",
    "        self.W_proj  = A\n",
    "        self.X_src2 = X\n",
    "        \n",
    "        Xs_new, Xt_new = Z[:, :ns].T, Z[:, ns:].T\n",
    "        return Xs_new.real, Xt_new.real\n",
    "\n",
    "    def fit_predict(self, Xs, Ys, Xt, Yt):\n",
    "        '''\n",
    "        Transform Xs and Xt, then make predictions on target using 1NN\n",
    "        :param Xs: ns * n_feature, source feature\n",
    "        :param Ys: ns * 1, source label\n",
    "        :param Xt: nt * n_feature, target feature\n",
    "        :param Yt: nt * 1, target label\n",
    "        :return: Accuracy and predicted_labels on the target domain\n",
    "        '''\n",
    "        Xs_new, Xt_new = self.fit(Xs, Xt)\n",
    "        \n",
    "        # Store classifier, then save\n",
    "        clf = SVC()\n",
    "        clf.fit(Xs_new, Ys.ravel())\n",
    "        y_pred = clf.predict(Xt_new)\n",
    "        acc = sklearn.metrics.accuracy_score(Yt, y_pred)\n",
    "        \n",
    "        self.clf = clf\n",
    "        return acc, y_pred\n",
    "\n",
    "    def fit_new(self, Xt2):\n",
    "        '''\n",
    "        Map Xt2 to the latent space created from Xt and Xs in .fit\n",
    "        Using existing W_proj and X_src2\n",
    "        :param Xs : ns * n_feature, source feature\n",
    "        :param Xt : nt * n_feature, target feature\n",
    "        :param Xt2: n_s, n_feature, target feature to be mapped\n",
    "        :return: Xt2_new, mapped Xt2 with projection created by Xs and Xt\n",
    "        '''\n",
    "        if not np.all(self.W_proj):\n",
    "            raise AssertionError('No projection matrix found, use .fit to find projectino matrix, feature of source and target')\n",
    "        \n",
    "        # Reshape to make it consistent with other methods\n",
    "        Xt2 = Xt2.T\n",
    "\n",
    "        # Compute kernel with respect to self.X_new_src\n",
    "        K = kernel(self.kernel_type, X1 = Xt2, X2 = self.X_src2, gamma=self.gamma)\n",
    "\n",
    "        # New target features\n",
    "        Xt2_new = K @ self.W_proj\n",
    "\n",
    "        return Xt2_new.real\n",
    "    \n",
    "    def fit_predict_new(self, Xt2, Yt2):\n",
    "        '''\n",
    "        Transfrom Xt and Xs, get Xs_new\n",
    "        Transform Xt2 with projection matrix created by Xs and Xt, get Xt2_new\n",
    "        Make predictions on Xt2_new using classifier trained on Xs_new\n",
    "        :param Xt: ns * n_feature, target feature\n",
    "        :param Xs: ns * n_feature, source feature\n",
    "        :param Ys: ns * 1, source label\n",
    "        :param Xt2: nt * n_feature, new target feature\n",
    "        :param Yt2: nt * 1, new target label\n",
    "        :return: Accuracy and predicted_labels on the target domain\n",
    "        '''\n",
    "        if not np.all(self.W_proj) or not np.all(self.clf) :\n",
    "            raise AssertionError('No classifier found, trained classifier first using .fit_predict')\n",
    "\n",
    "        Xt2_new = self.fit_new(Xt2)\n",
    "\n",
    "        y_pred = self.clf.predict(Xt2_new)\n",
    "        acc = sklearn.metrics.accuracy_score(Yt2, y_pred)\n",
    "\n",
    "        return acc, y_pred"
   ]
  },
  {
   "cell_type": "code",
   "execution_count": 177,
   "metadata": {},
   "outputs": [],
   "source": [
    "# Function to convert score and std to +/- form\n",
    "conv = lambda sc, std: str(np.round(sc, 2)) + ' +/- ' + str(np.round(std, 2))\n",
    "# print(conv(80.356, 0.5678))"
   ]
  },
  {
   "cell_type": "code",
   "execution_count": 192,
   "metadata": {},
   "outputs": [],
   "source": [
    "tca_ker = 'linear'\n",
    "tca_dim = 3\n",
    "\n",
    "tca = TCA(kernel_type=tca_ker, dim=tca_dim, lamb=1, gamma=1, coef=1, degree=3)"
   ]
  },
  {
   "cell_type": "code",
   "execution_count": 193,
   "metadata": {},
   "outputs": [
    {
     "name": "stdout",
     "output_type": "stream",
     "text": [
      "=== linear kernel ===\n"
     ]
    }
   ],
   "source": [
    "_, _ = tca.fit_predict(Xs, Ys, Xt1, Yt1)"
   ]
  },
  {
   "cell_type": "code",
   "execution_count": 194,
   "metadata": {},
   "outputs": [
    {
     "data": {
      "text/plain": [
       "(164, 3)"
      ]
     },
     "execution_count": 194,
     "metadata": {},
     "output_type": "execute_result"
    }
   ],
   "source": [
    "tca.W_proj.shape"
   ]
  },
  {
   "cell_type": "code",
   "execution_count": 195,
   "metadata": {},
   "outputs": [
    {
     "data": {
      "text/plain": [
       "SVC()"
      ]
     },
     "execution_count": 195,
     "metadata": {},
     "output_type": "execute_result"
    }
   ],
   "source": [
    "tca.clf"
   ]
  },
  {
   "cell_type": "code",
   "execution_count": 196,
   "metadata": {},
   "outputs": [
    {
     "data": {
      "text/plain": [
       "(6, 164)"
      ]
     },
     "execution_count": 196,
     "metadata": {},
     "output_type": "execute_result"
    }
   ],
   "source": [
    "tca.X_src2.shape"
   ]
  },
  {
   "cell_type": "code",
   "execution_count": 199,
   "metadata": {},
   "outputs": [
    {
     "name": "stdout",
     "output_type": "stream",
     "text": [
      "=== linear kernel ===\n"
     ]
    },
    {
     "data": {
      "text/plain": [
       "0.3"
      ]
     },
     "execution_count": 199,
     "metadata": {},
     "output_type": "execute_result"
    }
   ],
   "source": [
    "acc, _ = tca.fit_predict_new(Xt2, Yt2)\n",
    "acc"
   ]
  },
  {
   "cell_type": "code",
   "execution_count": null,
   "metadata": {},
   "outputs": [],
   "source": []
  },
  {
   "cell_type": "code",
   "execution_count": 165,
   "metadata": {},
   "outputs": [
    {
     "data": {
      "text/plain": [
       "array([0, 1, 1, 0, 1, 0, 1, 1, 0, 1, 0, 0, 1, 0, 0, 0, 0, 1, 0, 1, 1, 0,\n",
       "       1, 1, 1, 0, 0, 1, 1, 0, 0, 0, 1, 1, 0, 0, 0, 1, 0, 1, 1, 0, 1, 0,\n",
       "       1, 1, 1, 0, 0, 0, 1, 0, 0, 1, 0, 0, 1, 0, 1, 1, 0, 1, 0, 0, 1, 0,\n",
       "       1, 1, 1, 1, 1, 0, 1, 0, 0, 0, 1, 1, 0, 1, 0, 1, 0, 1, 1, 1, 0, 0,\n",
       "       1, 0, 1, 1, 0, 0, 1, 0, 1, 0, 0, 1, 0, 0, 0, 1, 1, 1, 1, 0, 1, 1,\n",
       "       1, 0, 0, 0, 0, 0, 1, 0, 1, 1, 0, 1, 0, 0, 1, 1, 1, 0, 1, 1, 1, 1,\n",
       "       1, 0, 1, 1, 0, 0, 0, 0, 0, 0, 1, 0])"
      ]
     },
     "execution_count": 165,
     "metadata": {},
     "output_type": "execute_result"
    }
   ],
   "source": [
    "Ys"
   ]
  },
  {
   "cell_type": "code",
   "execution_count": null,
   "metadata": {},
   "outputs": [],
   "source": []
  },
  {
   "cell_type": "markdown",
   "metadata": {},
   "source": [
    "## `evaluate-all` function 7\n",
    "**Main idea** :   \n",
    "Found out about how to do update on incremental data, this class will caters about that as well.\n",
    "The following method will be evaluate:\n",
    "- CSP-SVM\n",
    "- EA-CSP-SVM\n",
    "- CSP-TCA-SVM\n",
    "- EA-CSP-TCA-SVM\n",
    "\n",
    "Separate function and class, the function will handle data separation, the class `eval7` will handle evaluation on specified model.\n",
    "\n",
    "**Pseudocode**:\n",
    "1. Function `eval_all_ver7` will accept the following parameter:\n",
    "    - data    : data consisting of source and target\n",
    "    - tgt_subj: subject act as target data\n",
    "    - model   : model to be evaluated\n",
    "    - tca_ker : kernel of tca\n",
    "    - tca_dim : dim of tca\n",
    "    - svm_ker : kernel of svm\n",
    "    - n_tgt1  : random n of xt1\n",
    "    - n_tgt2  : random n of xt2\n",
    "    - n_sim   : n similar source to be paired with xt1 or xt2\n",
    "    - n_src   : random n of src\n",
    "    \n",
    "    \n",
    "2. Function `eval_all_ver7` will do the following:\n",
    "    - Xt_raw and Yt : whether ori or EA-ed data\n",
    "    - Xt1, Xt2 : randomized stratify Yt\n",
    "    - csp_xt2 = csp(Xt2, Yt2) and csp_xt1 = csp(Xt1, Yt1)\n",
    "    - csp_xs of all subjects\n",
    "    - distance, MMD of csp_xt1 to all csp_xs\n",
    "    - distance, MMD of csp_xt2 to all csp_xs\n",
    "    - pass all this info to class `eval7`\n",
    "  \n",
    "    \n",
    "2. Class `eval7` will have following attribute:\n",
    "    - tca_kernel, tca_dimension, svm_kernel\n",
    "    - Xs, Xt1, Xt2\n",
    "    - csp_xs, csp_xt1, csp_xt2\n",
    "    - mmd_xt1, mmd_xt2\n",
    "    - Ys, Yt1, Yt2\n",
    "    - tca_kern, svm_kern\n",
    "    - tca_dim"
   ]
  },
  {
   "cell_type": "code",
   "execution_count": 43,
   "metadata": {},
   "outputs": [],
   "source": [
    "# class Eval7():\n",
    "#     def __init__(self, tca_kernel, tca_dimension, csp_xt1, csp_xt2, csp_xs)\n",
    "#         self.tca_kern = tca_kernel\n",
    "#         self.tca_dim  = tca_dimension\n",
    "    \n",
    "#     def csp_tca_svm_old():\n",
    "        \n",
    "#     def csp_tca_svm_new():\n",
    "#         tca = TCA(kernel_type='self.tca_kern', dim=30, lamb=1, gamma=1, coef=1, degree=3)\n",
    "#         tca.fit_predict_new()"
   ]
  },
  {
   "cell_type": "code",
   "execution_count": 37,
   "metadata": {},
   "outputs": [],
   "source": [
    "import random\n",
    "from sklearn.svm import SVC\n",
    "from sklearn.discriminant_analysis import LinearDiscriminantAnalysis as LDA\n",
    "from func.csp_matlab import csp_feat_no_test_2"
   ]
  },
  {
   "cell_type": "code",
   "execution_count": null,
   "metadata": {},
   "outputs": [],
   "source": []
  },
  {
   "cell_type": "code",
   "execution_count": 305,
   "metadata": {},
   "outputs": [],
   "source": [
    "def eval_all_ver7(data, tgt_subj=1, model='CSP-TCA-SVM', tca_ker='linear',\\\n",
    "                  tca_dim=3, svm_ker='linear', n_tgt1=20, n_tgt2=30, n_sim=3, n_src=144):\n",
    "    \n",
    "    print(f'Processing target subject: {tgt_subj}')\n",
    "    print(f'Model: {model}') \n",
    "    \n",
    "    # Key to define where data is stored\n",
    "    all_keys=['epochs', 'epochs_EA', 'y']\n",
    "    key_noEA = all_keys[0]\n",
    "    key_EA = all_keys[1]    \n",
    "    y = all_keys[2]\n",
    "    \n",
    "    # =========== PREPROCESSING  ============== #\n",
    "    '''\n",
    "    This section will fetch raw data to be evaluated\n",
    "    '''\n",
    "    # Following models need to fetch source EA data\n",
    "    model_EA = ['EA-CSP-TCA-SVM', 'EA-CSP-SVM']\n",
    "    \n",
    "    # === EA data ====\n",
    "    if model in model_EA:\n",
    "        # Set key variable in which EA data is stored\n",
    "        key = key_EA\n",
    "        csp_feat_key = 'all_feats_EA'\n",
    "        print(f'Fetching raw data stored in {key} csp_feat in {csp_feat_key}')\n",
    "\n",
    "    # === no EA ===\n",
    "    else:\n",
    "        # Set key variable in which non-EA data is stored\n",
    "        key = key_noEA\n",
    "        csp_feat_key = 'all_feats'\n",
    "        print(f'Fetching raw data stored in {key} csp_feat in {csp_feat_key}')\n",
    "    \n",
    "    # === Raw data of target ==== #\n",
    "    Xraw_tgt = deepcopy(data['tgt'][tgt_subj][key])\n",
    "    y_tgt    = deepcopy(data['tgt'][tgt_subj]['y'])\n",
    "    \n",
    "    # ===== N random target1 and target2 sample ==== #\n",
    "    # == Target 1 ==\n",
    "    idx = random.sample(range(len(Xraw_tgt)), n_tgt1)\n",
    "    while (y_tgt[idx] == 1).sum() != n_tgt1//2:\n",
    "        idx = random.sample(range(len(Xraw_tgt)), n_tgt1)\n",
    "\n",
    "    Xraw_tgt1 = Xraw_tgt[idx]\n",
    "    y_tgt1    = y_tgt[idx]\n",
    "    \n",
    "    Xraw_tgt_left = np.delete(Xraw_tgt, idx, axis=0)\n",
    "    y_tgt_left    = np.delete(y_tgt, idx, axis=0)\n",
    "    \n",
    "    # == Target 2 ==\n",
    "    idx = random.sample(range(len(Xraw_tgt_left)), n_tgt2)\n",
    "    while (y_tgt[idx] == 1).sum() != n_tgt2//2:\n",
    "        idx = random.sample(range(len(Xraw_tgt_left)), n_tgt2)\n",
    "        \n",
    "    Xraw_tgt2 = Xraw_tgt_left[idx]\n",
    "    y_tgt2    = y_tgt_left[idx]\n",
    "    \n",
    "    # == CSP Xraw_tgt1 and Xraw_tgt2 ==\n",
    "    csp_tgt_self_1 = csp_feat_no_test_2(Xraw_tgt1, y_tgt1, n_filter=3)\n",
    "    csp_tgt_self_2 = csp_feat_no_test_2(Xraw_tgt2, y_tgt2, n_filter=3)\n",
    "    \n",
    "    # == Compute MMD csp_tgt1 and csp_tgt2 ==\n",
    "    n_sim_sub_tgt1 = mmd_to_src(data, tgt_subj, csp_tgt_self_1, csp_feat_key, n_sim_sub=n_sim)\n",
    "    n_sim_sub_tgt2 = mmd_to_src(data, tgt_subj, csp_tgt_self_2, csp_feat_key, n_sim_sub=n_sim)    \n",
    "    \n",
    "    print(f'MMD result {n_sim} most similar subject to csp_tgt1 of target {tgt_subj} : {n_sim_sub_tgt1}')\n",
    "    \n",
    "    # Variable to store best score from similar source subject\n",
    "    best_sc = 0\n",
    "    \n",
    "    # ==== CSP-TCA-SVM-C ==== # \n",
    "    if model == 'CSP-TCA-SVM-C' or model == 'EA-CSP-TCA-SVM-C':\n",
    "        print(f'Evaluating {model}')\n",
    "        # Iterate over n similar subjects\n",
    "        for sim_subj in n_sim_sub_tgt1:\n",
    "            # Raw data of most similar subject\n",
    "            Xraw_src = data['src'][sim_subj][key]\n",
    "            y_src    = data['src'][sim_subj][y] \n",
    "\n",
    "            # CSP of Xraw_tgt1 and Xraw_tgt2 with filter from Xraw_src \n",
    "            csp_src, csp_tgt1 = csp_feat_ver1(Xraw_src, Xraw_tgt1, y_src, n_filter=3)\n",
    "            _      , csp_tgt2 = csp_feat_ver1(Xraw_src, Xraw_tgt2, y_src, n_filter=3)\n",
    "\n",
    "            tca = TCA(kernel_type=tca_ker, dim=tca_dim, lamb=1, gamma=1, coef=1, degree=3)\n",
    "            _, _ = tca.fit_predict(csp_src, y_src, csp_tgt1, y_tgt1)\n",
    "            temp_sc, _ = tca.fit_predict_new(csp_tgt2, y_tgt2)\n",
    "\n",
    "            best_sc = temp_sc if temp_sc > best_sc else best_sc\n",
    "\n",
    "            \n",
    "#     # ==== CSP-TCA-SVM-C ==== # \n",
    "#     if model == 'CSP-TCA-SVM-C' or model == 'EA-CSP-TCA-SVM-C':\n",
    "#         print(f'Evaluating {model}')\n",
    "#         # Iterate over n similar subjects\n",
    "#         for sim_subj in n_sim_sub_tgt1:\n",
    "#             # Raw data of most similar subject\n",
    "#             Xraw_src = data['src'][sim_subj][key]\n",
    "#             y_src    = data['src'][sim_subj][y] \n",
    "\n",
    "#             # CSP of Xraw_tgt1 and Xraw_tgt2 with filter from Xraw_src \n",
    "#             csp_src, csp_tgt1 = csp_feat_ver1(Xraw_src, Xraw_tgt1, y_src, n_filter=3)\n",
    "#             _      , csp_tgt2 = csp_feat_ver1(Xraw_src, Xraw_tgt2, y_src, n_filter=3)\n",
    "            \n",
    "#             # Perform TCA\n",
    "#             tca = TCA(kernel_type=tca_ker, dim=tca_dim, lamb=1, gamma=1, coef=1, degree=3)\n",
    "#             _, _       = tca.fit_predict(csp_src, y_src, csp_tgt1, y_tgt1)\n",
    "#             temp_sc, _ = tca.fit_predict_new(csp_tgt2, y_tgt2)\n",
    "\n",
    "#             best_sc = temp_sc if temp_sc > best_sc else best_sc\n",
    "\n",
    "    \n",
    "    return best_sc\n",
    "        \n",
    "        \n",
    "        \n",
    "        \n",
    "        \n",
    "        \n",
    "        \n",
    "        \n",
    "        \n",
    "        \n",
    "        \n",
    "        \n",
    "        \n",
    "        \n",
    "        \n",
    "        \n",
    "\n",
    "#         ## =========== EVALUATION =========== ##\n",
    "#         # ====== CSP-SVM ====== #\n",
    "#         if (model == 'CSP-SVM') or (model == 'EA-CSP-SVM'):\n",
    "#             print(f'Evaluating {model}')\n",
    "#             print(f'Similar subject: {sim_subj}')\n",
    "#             print(f'train size {csp_src.shape}')\n",
    "#             print(f'test size  {csp_tgt_test.shape}')\n",
    "\n",
    "#             # Define classifier\n",
    "#             model_svm = SVC(kernel=svm_ker, coef0=1)\n",
    "\n",
    "#             # Fitting data\n",
    "#             model_svm.fit(csp_src, y_src)\n",
    "\n",
    "#             # Current score\n",
    "#             sc = model_svm.score(csp_tgt_test, y_tgt_te)\n",
    "#             print(f'Source{sim_subj} current score: {sc:.2f}')\n",
    "\n",
    "#             # Storing the best score\n",
    "#             best_sc = sc if sc > best_sc else best_sc\n",
    "\n",
    "\n",
    "#         # ====== EA, CSP-TCA-SVM ====== #\n",
    "#         elif (model == 'CSP-TCA-SVM') or (model=='EA-CSP-TCA-SVM'):   \n",
    "#             # ====== TCA ====== #\n",
    "#             print(f'Evaluating {model}')\n",
    "#             # Compute TCA feature of current target and most similar subject\n",
    "#             tca = TCA(kernel_type=tca_ker, dim=tca_dim, lamb=1, gamma=1, coef=1, degree=3)\n",
    "\n",
    "#             # print('=== Training classifier ===')\n",
    "#             print('Find new TCA feature using following data')\n",
    "#             print('CSP src all     : ', csp_src.shape)\n",
    "#             print('CSP tgt test    : ', csp_tgt_test.shape)\n",
    "\n",
    "#             tca_src, tca_tgt_test = tca.fit(csp_src, csp_tgt_test)\n",
    "\n",
    "#             # --- Training ----- #\n",
    "#             # Define new classifier\n",
    "#             model_svm = SVC(kernel=svm_ker, coef0=1)\n",
    "\n",
    "#             # Fiting data\n",
    "#             model_svm.fit(tca_src.real, y_src)\n",
    "\n",
    "#             # Current score\n",
    "#             sc = model_svm.score(tca_tgt_test.real, y_tgt_te)\n",
    "\n",
    "#             # Storing the best score\n",
    "#             best_sc = sc if sc > best_sc else best_sc\n",
    "\n",
    "#         print('')\n",
    "        \n",
    "#         # Out of similar subject loop, append each best_sc \n",
    "#         all_sc.append(best_sc*100)"
   ]
  },
  {
   "cell_type": "code",
   "execution_count": 306,
   "metadata": {},
   "outputs": [
    {
     "name": "stdout",
     "output_type": "stream",
     "text": [
      "CSP-TCA-SVM-C\n",
      "Processing target subject: 1\n",
      "Model: CSP-TCA-SVM-C\n",
      "Fetching raw data stored in epochs csp_feat in all_feats\n",
      "sim subj: [6 7 3]\n",
      "sim subj: [7 6 2]\n",
      "MMD result 3 most similar subject to csp_tgt1 of target 1 : [6 7 3]\n",
      "Evaluating CSP-TCA-SVM-C\n",
      "=== rbf kernel ===\n",
      "=== rbf kernel ===\n",
      "=== rbf kernel ===\n",
      "=== rbf kernel ===\n",
      "=== rbf kernel ===\n",
      "=== rbf kernel ===\n"
     ]
    }
   ],
   "source": [
    "models = ['CSP-TCA-SVM-C'] #, 'CSP-TCA-SVM-C']\n",
    "data = TL_data\n",
    "n_iter = 1\n",
    "all_sc7 = {}\n",
    "\n",
    "for m in models:\n",
    "    print(m)\n",
    "    all_sc7[m] = {}\n",
    "    \n",
    "#     for t in data['tgt'].keys():\n",
    "    for t in [1]:\n",
    "        all_sc7[m][t] = []\n",
    "        \n",
    "        for i in range(n_iter):\n",
    "            sc = eval_all_ver7(data, tgt_subj=t, model=m, tca_ker='rbf', \\\n",
    "                               tca_dim=3, svm_ker='rbf', n_tgt1=20, n_tgt2=50, n_sim=3, n_src=144)\n",
    "    \n",
    "            all_sc7[m][t].append(sc)"
   ]
  },
  {
   "cell_type": "code",
   "execution_count": 307,
   "metadata": {},
   "outputs": [
    {
     "ename": "KeyError",
     "evalue": "'CSP-TCA-SVM-B'",
     "output_type": "error",
     "traceback": [
      "\u001b[1;31m---------------------------------------------------------------------------\u001b[0m",
      "\u001b[1;31mKeyError\u001b[0m                                  Traceback (most recent call last)",
      "\u001b[1;32m<ipython-input-307-b38f446a5fce>\u001b[0m in \u001b[0;36m<module>\u001b[1;34m\u001b[0m\n\u001b[1;32m----> 1\u001b[1;33m \u001b[0mall_sc7\u001b[0m\u001b[1;33m[\u001b[0m\u001b[1;34m'CSP-TCA-SVM-B'\u001b[0m\u001b[1;33m]\u001b[0m\u001b[1;33m[\u001b[0m\u001b[1;36m1\u001b[0m\u001b[1;33m]\u001b[0m\u001b[1;33m\u001b[0m\u001b[1;33m\u001b[0m\u001b[0m\n\u001b[0m",
      "\u001b[1;31mKeyError\u001b[0m: 'CSP-TCA-SVM-B'"
     ]
    }
   ],
   "source": [
    "all_sc7['CSP-TCA-SVM-B'][1]"
   ]
  },
  {
   "cell_type": "code",
   "execution_count": null,
   "metadata": {},
   "outputs": [],
   "source": []
  },
  {
   "cell_type": "code",
   "execution_count": null,
   "metadata": {},
   "outputs": [],
   "source": []
  },
  {
   "cell_type": "code",
   "execution_count": null,
   "metadata": {},
   "outputs": [],
   "source": []
  },
  {
   "cell_type": "code",
   "execution_count": 283,
   "metadata": {},
   "outputs": [
    {
     "name": "stdout",
     "output_type": "stream",
     "text": [
      "[0.52, 0.46, 0.82, 0.52, 0.54]\n",
      "[0.64, 0.54, 0.5, 0.46, 0.46]\n"
     ]
    }
   ],
   "source": [
    "print(sc1)\n",
    "print(sc2)"
   ]
  },
  {
   "cell_type": "code",
   "execution_count": 281,
   "metadata": {},
   "outputs": [
    {
     "data": {
      "text/plain": [
       "0"
      ]
     },
     "execution_count": 281,
     "metadata": {},
     "output_type": "execute_result"
    }
   ],
   "source": [
    "sc"
   ]
  },
  {
   "cell_type": "code",
   "execution_count": null,
   "metadata": {},
   "outputs": [],
   "source": []
  },
  {
   "cell_type": "code",
   "execution_count": 114,
   "metadata": {},
   "outputs": [],
   "source": [
    "def mmd_to_src(data, tgt_sub, csp_tgt, csp_feat_key, n_sim_sub):\n",
    "    '''\n",
    "    Built specifically to handle mi-bci TL case witl TCA\n",
    "    :params:\n",
    "    data     : data containing csp source data\n",
    "    csp_tgt  : csp target data againts which distance will be measure\n",
    "    n_sim_sub: pick n_most similar subj\n",
    "    :return:\n",
    "    sim_sub  : subject with the least mmd value, ie closest to csp_tgt\n",
    "    '''\n",
    "    # ===== Find most similar source to current target data ====== #\n",
    "    # MMD from csp_tgt to rest of source\n",
    "    mmd = []\n",
    "    for src_subj in data['src'].keys():\n",
    "        if src_subj == tgt_sub:\n",
    "            mmd.append(0)\n",
    "        else:\n",
    "            csp_src = data['src'][src_subj][csp_feat_key]\n",
    "            mmd.append(mmd_rbf(csp_src, csp_tgt))\n",
    "\n",
    "    # Plus to because index starts from zero\n",
    "    mmd_sim = np.argsort(np.array(mmd))+1    \n",
    "\n",
    "    # Choose n_sim most simliar source to current target subject \n",
    "    n_sim_subj = mmd_sim[1:n_sim_sub+1] \n",
    "    # print(f'sim subj: {n_sim_subj}')\n",
    "    \n",
    "    return n_sim_subj"
   ]
  },
  {
   "cell_type": "code",
   "execution_count": null,
   "metadata": {},
   "outputs": [],
   "source": []
  },
  {
   "cell_type": "code",
   "execution_count": null,
   "metadata": {},
   "outputs": [],
   "source": []
  },
  {
   "cell_type": "code",
   "execution_count": 239,
   "metadata": {},
   "outputs": [],
   "source": [
    "def eval_all_ver6(data, tgt_subj=1, model='CSP-SVM', n_sim=3, tca_ker='linear', svm_ker='linear', tca_dim=3, n_samp=10, n_iter=20, return_mean=False):\n",
    "    '''\n",
    "    \n",
    "    '''\n",
    "    print(f'Processing target subject: {tgt_subj}')\n",
    "    print(f'Model: {model}')    \n",
    "    \n",
    "    # Key to define where data is stored\n",
    "    all_keys=['epochs', 'epochs_EA', 'y']\n",
    "    key_noEA = all_keys[0]\n",
    "    key_EA = all_keys[1]    \n",
    "    y = all_keys[2]\n",
    "    \n",
    "    # =========== PREPROCESSING  ============== #\n",
    "    '''\n",
    "    This section will fetch raw data to be evaluated\n",
    "    '''\n",
    "    # Following models need to fetch source EA data\n",
    "    model_EA = ['EA-CSP-TCA-SVM', 'EA-CSP-SVM']\n",
    "    \n",
    "    # === EA data ====\n",
    "    if model in model_EA:\n",
    "        # Set key variable in which EA data is stored\n",
    "        key = key_EA\n",
    "        csp_feat = 'all_feats_EA'\n",
    "        print('Fetching raw data stored in {}'.format(key))\n",
    "        print('Fetching feat data stored in {}'.format(csp_feat))\n",
    "\n",
    "    # === no EA ===\n",
    "    else:\n",
    "        # Set key variable in which non-EA data is stored\n",
    "        key = key_noEA\n",
    "        csp_feat = 'all_feats'\n",
    "        print('Fetching raw data stored in {}'.format(key))\n",
    "        print('Fetching feat data stored in {}'.format(csp_feat))\n",
    "    \n",
    "    # === Raw data of target ==== #\n",
    "    Xraw_tgt = deepcopy(data['tgt'][tgt_subj][key])\n",
    "    y_tgt    = deepcopy(data['tgt'][tgt_subj]['y'])\n",
    "    \n",
    "    # Object to store all result\n",
    "    all_sc = []\n",
    "    \n",
    "    for i in range(n_iter):\n",
    "        print('Iteration', i)\n",
    "        \n",
    "        # ===== Selecting n random target sample ==== #\n",
    "        idx = random.sample(range(len(Xraw_tgt)), n_samp)\n",
    "        while (y_tgt[idx] == 1).sum() != n_samp//2:\n",
    "            idx = random.sample(range(len(Xraw_tgt)), n_samp)\n",
    "        \n",
    "        Xraw_tgt_test = Xraw_tgt[idx]\n",
    "        y_tgt_te      = y_tgt[idx]\n",
    "        \n",
    "        # ===== Find most similar source to current target data ====== #\n",
    "        # CSP of current Xraw_tgt_te\n",
    "        csp_tgt_test = csp_feat_no_test_2(Xraw_tgt_test, y_tgt_te, n_filter=3)\n",
    "        \n",
    "        # MMD from current csp_tgt_train to rest of source\n",
    "        mmd = []\n",
    "        for src_subj in data['src'].keys():\n",
    "            if src_subj == tgt_subj:\n",
    "                mmd.append(0)\n",
    "            else:\n",
    "                csp_src = data['src'][src_subj][csp_feat]\n",
    "                mmd.append(mmd_rbf(csp_src, csp_tgt_test))\n",
    "\n",
    "        # Choose one subject most similar to current target\n",
    "        mmd_sim = np.argsort(np.array(mmd))+1    \n",
    "\n",
    "        # Choose n_sim most simliar source to current target subject \n",
    "        n_sim_subj = mmd_sim[1:n_sim+1] \n",
    "\n",
    "        print(f'mmd result: {mmd_sim}')\n",
    "        print(f'sim subj: {n_sim_subj}')\n",
    "        \n",
    "        # Variable to store best score from each source subject\n",
    "        best_sc = 0\n",
    "            \n",
    "        # Iterate over all similar subject\n",
    "        for sim_subj in n_sim_subj:\n",
    "            # Raw data of most similar subject\n",
    "            Xraw_src = data['src'][sim_subj][key]\n",
    "            y_src    = data['src'][sim_subj][y] \n",
    "\n",
    "            # CSP of Xraw_tgt with filter from Xraw_src \n",
    "            csp_src, csp_tgt_test = csp_feat_ver1(Xraw_src, Xraw_tgt_test, y_src, n_filter=3)\n",
    "            \n",
    "            \n",
    "            ## =========== EVALUATION =========== ##\n",
    "            # ====== CSP-SVM ====== #\n",
    "            if (model == 'CSP-SVM') or (model == 'EA-CSP-SVM'):\n",
    "                print(f'Evaluating {model}')\n",
    "                print(f'Similar subject: {sim_subj}')\n",
    "                print(f'train size {csp_src.shape}')\n",
    "                print(f'test size  {csp_tgt_test.shape}')\n",
    "\n",
    "                # Define classifier\n",
    "                model_svm = SVC(kernel=svm_ker, coef0=1)\n",
    "\n",
    "                # Fitting data\n",
    "                model_svm.fit(csp_src, y_src)\n",
    "                \n",
    "                # Current score\n",
    "                sc = model_svm.score(csp_tgt_test, y_tgt_te)\n",
    "                print(f'Source{sim_subj} current score: {sc:.2f}')\n",
    "\n",
    "                # Storing the best score\n",
    "                best_sc = sc if sc > best_sc else best_sc\n",
    "            \n",
    "\n",
    "            # ====== EA, CSP-TCA-SVM ====== #\n",
    "            elif (model == 'CSP-TCA-SVM') or (model=='EA-CSP-TCA-SVM'):   \n",
    "                # ====== TCA ====== #\n",
    "                print(f'Evaluating {model}')\n",
    "                # Compute TCA feature of current target and most similar subject\n",
    "                tca = TCA(kernel_type=tca_ker, dim=tca_dim, lamb=1, gamma=1, coef=1, degree=3)\n",
    "\n",
    "                # print('=== Training classifier ===')\n",
    "                print('Find new TCA feature using following data')\n",
    "                print('CSP src all     : ', csp_src.shape)\n",
    "                print('CSP tgt test    : ', csp_tgt_test.shape)\n",
    "\n",
    "                tca_src, tca_tgt_test = tca.fit(csp_src, csp_tgt_test)\n",
    "\n",
    "                # --- Training ----- #\n",
    "                # Define new classifier\n",
    "                model_svm = SVC(kernel=svm_ker, coef0=1)\n",
    "\n",
    "                # Fiting data\n",
    "                model_svm.fit(tca_src.real, y_src)\n",
    "\n",
    "                # Current score\n",
    "                sc = model_svm.score(tca_tgt_test.real, y_tgt_te)\n",
    "                \n",
    "                # Storing the best score\n",
    "                best_sc = sc if sc > best_sc else best_sc\n",
    "            \n",
    "            print('')\n",
    "        \n",
    "        # Out of similar subject loop, append each best_sc \n",
    "        all_sc.append(best_sc*100)\n",
    "        \n",
    "        print('')\n",
    "    \n",
    "    # Out of iteration loop\n",
    "    mean_sc = np.array(all_sc).mean()\n",
    "    std_sc  = np.array(all_sc).std()\n",
    "    \n",
    "    if return_mean:\n",
    "        return mean_sc, std_sc\n",
    "    else:\n",
    "        return all_sc"
   ]
  },
  {
   "cell_type": "code",
   "execution_count": 240,
   "metadata": {},
   "outputs": [],
   "source": [
    "%%capture\n",
    "# Store all score\n",
    "all_sc6 = {}\n",
    "# Models\n",
    "# models = ['CSP-SVM', 'CSP-TCA-SVM', 'EA-CSP-SVM', 'EA-CSP-TCA-SVM']\n",
    "models = ['CSP-TCA-SVM']\n",
    "# models = ['CSP-SVM', 'CSP-TCA-SVM']\n",
    "\n",
    "# Iterate over all tgt subj\n",
    "for m in models:\n",
    "    all_sc6[m]  = {}\n",
    "    temp_sc = []\n",
    "    \n",
    "    for s in TL_data['tgt'].keys():\n",
    "        avg, std = eval_all_ver6(TL_data, tgt_subj=s, tca_ker='rbf', svm_ker='rbf', tca_dim=4, model=m, n_sim=3, n_samp=30, n_iter=1, return_mean=True)\n",
    "        temp_sc.append(avg)\n",
    "        \n",
    "        all_sc6[m][s] = conv(avg, std)\n",
    "        \n",
    "    all_sc6[m]['avg'] = conv(np.array(temp_sc).mean(), np.array(temp_sc).std())"
   ]
  },
  {
   "cell_type": "code",
   "execution_count": 27,
   "metadata": {},
   "outputs": [
    {
     "data": {
      "text/html": [
       "<div>\n",
       "<style scoped>\n",
       "    .dataframe tbody tr th:only-of-type {\n",
       "        vertical-align: middle;\n",
       "    }\n",
       "\n",
       "    .dataframe tbody tr th {\n",
       "        vertical-align: top;\n",
       "    }\n",
       "\n",
       "    .dataframe thead th {\n",
       "        text-align: right;\n",
       "    }\n",
       "</style>\n",
       "<table border=\"1\" class=\"dataframe\">\n",
       "  <thead>\n",
       "    <tr style=\"text-align: right;\">\n",
       "      <th></th>\n",
       "      <th>CSP-SVM</th>\n",
       "      <th>CSP-TCA-SVM</th>\n",
       "      <th>EA-CSP-SVM</th>\n",
       "      <th>EA-CSP-TCA-SVM</th>\n",
       "    </tr>\n",
       "  </thead>\n",
       "  <tbody>\n",
       "    <tr>\n",
       "      <th>1</th>\n",
       "      <td>70.0 +/- 0.0</td>\n",
       "      <td>70.0 +/- 0.0</td>\n",
       "      <td>90.0 +/- 0.0</td>\n",
       "      <td>93.33 +/- 0.0</td>\n",
       "    </tr>\n",
       "    <tr>\n",
       "      <th>2</th>\n",
       "      <td>63.33 +/- 0.0</td>\n",
       "      <td>53.33 +/- 0.0</td>\n",
       "      <td>70.0 +/- 0.0</td>\n",
       "      <td>63.33 +/- 0.0</td>\n",
       "    </tr>\n",
       "    <tr>\n",
       "      <th>3</th>\n",
       "      <td>76.67 +/- 0.0</td>\n",
       "      <td>73.33 +/- 0.0</td>\n",
       "      <td>96.67 +/- 0.0</td>\n",
       "      <td>93.33 +/- 0.0</td>\n",
       "    </tr>\n",
       "    <tr>\n",
       "      <th>4</th>\n",
       "      <td>53.33 +/- 0.0</td>\n",
       "      <td>73.33 +/- 0.0</td>\n",
       "      <td>80.0 +/- 0.0</td>\n",
       "      <td>56.67 +/- 0.0</td>\n",
       "    </tr>\n",
       "    <tr>\n",
       "      <th>5</th>\n",
       "      <td>53.33 +/- 0.0</td>\n",
       "      <td>53.33 +/- 0.0</td>\n",
       "      <td>60.0 +/- 0.0</td>\n",
       "      <td>60.0 +/- 0.0</td>\n",
       "    </tr>\n",
       "    <tr>\n",
       "      <th>6</th>\n",
       "      <td>70.0 +/- 0.0</td>\n",
       "      <td>76.67 +/- 0.0</td>\n",
       "      <td>66.67 +/- 0.0</td>\n",
       "      <td>73.33 +/- 0.0</td>\n",
       "    </tr>\n",
       "    <tr>\n",
       "      <th>7</th>\n",
       "      <td>50.0 +/- 0.0</td>\n",
       "      <td>80.0 +/- 0.0</td>\n",
       "      <td>73.33 +/- 0.0</td>\n",
       "      <td>73.33 +/- 0.0</td>\n",
       "    </tr>\n",
       "    <tr>\n",
       "      <th>8</th>\n",
       "      <td>96.67 +/- 0.0</td>\n",
       "      <td>93.33 +/- 0.0</td>\n",
       "      <td>90.0 +/- 0.0</td>\n",
       "      <td>96.67 +/- 0.0</td>\n",
       "    </tr>\n",
       "    <tr>\n",
       "      <th>9</th>\n",
       "      <td>66.67 +/- 0.0</td>\n",
       "      <td>66.67 +/- 0.0</td>\n",
       "      <td>80.0 +/- 0.0</td>\n",
       "      <td>76.67 +/- 0.0</td>\n",
       "    </tr>\n",
       "    <tr>\n",
       "      <th>avg</th>\n",
       "      <td>66.67 +/- 13.61</td>\n",
       "      <td>71.11 +/- 11.86</td>\n",
       "      <td>78.52 +/- 11.45</td>\n",
       "      <td>76.3 +/- 14.27</td>\n",
       "    </tr>\n",
       "  </tbody>\n",
       "</table>\n",
       "</div>"
      ],
      "text/plain": [
       "             CSP-SVM      CSP-TCA-SVM       EA-CSP-SVM  EA-CSP-TCA-SVM\n",
       "1       70.0 +/- 0.0     70.0 +/- 0.0     90.0 +/- 0.0   93.33 +/- 0.0\n",
       "2      63.33 +/- 0.0    53.33 +/- 0.0     70.0 +/- 0.0   63.33 +/- 0.0\n",
       "3      76.67 +/- 0.0    73.33 +/- 0.0    96.67 +/- 0.0   93.33 +/- 0.0\n",
       "4      53.33 +/- 0.0    73.33 +/- 0.0     80.0 +/- 0.0   56.67 +/- 0.0\n",
       "5      53.33 +/- 0.0    53.33 +/- 0.0     60.0 +/- 0.0    60.0 +/- 0.0\n",
       "6       70.0 +/- 0.0    76.67 +/- 0.0    66.67 +/- 0.0   73.33 +/- 0.0\n",
       "7       50.0 +/- 0.0     80.0 +/- 0.0    73.33 +/- 0.0   73.33 +/- 0.0\n",
       "8      96.67 +/- 0.0    93.33 +/- 0.0     90.0 +/- 0.0   96.67 +/- 0.0\n",
       "9      66.67 +/- 0.0    66.67 +/- 0.0     80.0 +/- 0.0   76.67 +/- 0.0\n",
       "avg  66.67 +/- 13.61  71.11 +/- 11.86  78.52 +/- 11.45  76.3 +/- 14.27"
      ]
     },
     "execution_count": 27,
     "metadata": {},
     "output_type": "execute_result"
    }
   ],
   "source": [
    "df_sc6 = dframe(all_sc6)\n",
    "df_sc6"
   ]
  },
  {
   "cell_type": "code",
   "execution_count": null,
   "metadata": {},
   "outputs": [],
   "source": []
  },
  {
   "cell_type": "markdown",
   "metadata": {},
   "source": [
    "## `n-dim-tca` vs `acc`\n",
    "**Goal**: Whether the dimensionality of tca space could affect accuracy?\n",
    "\n",
    "**Concern:**: \n",
    "* Range of dimension? for now 1 to n-dim original\n",
    "* The method that use tca-dim are CSP-TCA-SVM and EA-CSP-TCA-SVM"
   ]
  },
  {
   "cell_type": "code",
   "execution_count": 230,
   "metadata": {},
   "outputs": [],
   "source": [
    "%%capture\n",
    "# Iterate each subject over different dimension\n",
    "tcadim_sc = {}\n",
    "n_iter    = 3\n",
    "models  = ['CSP-TCA-SVM', 'EA-CSP-TCA-SVM']\n",
    "csp_dim = TL_data['src'][1]['all_feats'].shape[1]\n",
    "\n",
    "for m in models:\n",
    "    tcadim_sc[m] = {}\n",
    "    \n",
    "    for s in TL_data['tgt'].keys():\n",
    "        tcadim_sc[m][s] = {}\n",
    "        \n",
    "        # Modify tca dimension from 1 to max of csp features\n",
    "        for dim in range(1, csp_dim+1):\n",
    "            tcadim_sc[m][s][dim] = eval_all_ver6(TL_data, tgt_subj=s, tca_ker='linear', svm_ker='rbf', \\\n",
    "                                                      tca_dim=dim, model=m, n_sim=3, n_samp=30, n_iter=n_iter, return_mean=False)"
   ]
  },
  {
   "cell_type": "code",
   "execution_count": 231,
   "metadata": {},
   "outputs": [],
   "source": [
    "# Creating long-format data\n",
    "tcadim_long = pd.DataFrame()\n",
    "\n",
    "# Iterate over all models and subjects\n",
    "for m in models:\n",
    "    df_all_subj = pd.DataFrame()\n",
    "    \n",
    "    for s in TL_data['tgt'].keys():\n",
    "        temp_df = pd.DataFrame(tcadim_sc[m][s])\n",
    "        temp_df['model']  = m\n",
    "        temp_df['subj'] = s\n",
    "        temp_df.index.name   ='iter'\n",
    "        temp_df.columns.name ='ndim'\n",
    "        temp_df = temp_df.melt(id_vars=['subj', 'model'], value_vars=list(range(1, csp_dim+1)), value_name='acc', var_name='ndim', ignore_index=False)\n",
    "        \n",
    "        # Concatenate all subject\n",
    "        df_all_subj = pd.concat([df_all_subj, temp_df])\n",
    "    \n",
    "    # Concatenate all models\n",
    "    tcadim_long = pd.concat([tcadim_long, df_all_subj])"
   ]
  },
  {
   "cell_type": "code",
   "execution_count": 232,
   "metadata": {},
   "outputs": [
    {
     "data": {
      "image/png": "[encoded data removed]",
      "text/plain": [
       "<Figure size 432x288 with 1 Axes>"
      ]
     },
     "metadata": {
      "needs_background": "light"
     },
     "output_type": "display_data"
    }
   ],
   "source": [
    "fig, ax = plt.subplots()\n",
    "ax = sns.boxplot(data=tcadim_long, x='ndim', y='acc', hue='model', width=.7)\n",
    "ax.legend(loc='upper left', bbox_to_anchor=(1, 1))\n",
    "ax.set_title('TCA n-dim vs Accuracy All Subjects', fontsize=15)\n",
    "ax.set_ylabel('Accuracy', fontsize=12)\n",
    "ax.set_xlabel('n-dim', fontsize=12)\n",
    "plt.show()"
   ]
  },
  {
   "cell_type": "code",
   "execution_count": 37,
   "metadata": {},
   "outputs": [
    {
     "data": {
      "image/png": "[encoded data removed]",
      "text/plain": [
       "<Figure size 864x432 with 1 Axes>"
      ]
     },
     "metadata": {
      "needs_background": "light"
     },
     "output_type": "display_data"
    }
   ],
   "source": [
    "fig, ax = plt.subplots(figsize=(12, 6))\n",
    "ax = sns.boxplot(data=tcadim_long, x='ndim', y='acc', hue='subj', width=.7)\n",
    "ax.legend(loc='upper left', bbox_to_anchor=(1, 1))\n",
    "ax.set_title('TCA n-dim vs Accuracy All Subjects', fontsize=15)\n",
    "ax.set_ylabel('Accuracy', fontsize=12)\n",
    "ax.set_xlabel('n-dim', fontsize=12)\n",
    "plt.show()"
   ]
  },
  {
   "cell_type": "code",
   "execution_count": 38,
   "metadata": {},
   "outputs": [],
   "source": [
    "def create_df_each_subject(data):\n",
    "    '''\n",
    "    Parameters\n",
    "    data   : dict type, containing [model][subject][iteration]\n",
    "             score of each iteration, each subject, each model\n",
    "    \n",
    "    Return\n",
    "    return : dataframe, will be store in data['df']\n",
    "    '''\n",
    "    if not all([np.int == type(k) for k in data.keys()]):\n",
    "        return 'invalid, data containing str keys'\n",
    "    \n",
    "    \n",
    "    df = pd.DataFrame(data)\n",
    "    df.index.name = 'iter'\n",
    "    df.columns.name= 'ndim'\n",
    "    return df"
   ]
  },
  {
   "cell_type": "code",
   "execution_count": 39,
   "metadata": {},
   "outputs": [],
   "source": [
    "# Copy tcadim_sc\n",
    "data_copy = deepcopy(tcadim_sc)\n",
    "\n",
    "# Constructing dataframe for each subject\n",
    "for m in models:\n",
    "    for s in TL_data['tgt'].keys():\n",
    "        data_copy[m][s]['df'] = create_df_each_subject(data_copy[m][s])\n",
    "        \n",
    "    assert 'df' in (data_copy[m][s].keys())"
   ]
  },
  {
   "cell_type": "code",
   "execution_count": 40,
   "metadata": {},
   "outputs": [
    {
     "data": {
      "image/png": "[encoded data removed]",
      "text/plain": [
       "<Figure size 700x560 with 9 Axes>"
      ]
     },
     "metadata": {
      "needs_background": "light"
     },
     "output_type": "display_data"
    },
    {
     "data": {
      "image/png": "[encoded data removed]",
      "text/plain": [
       "<Figure size 700x560 with 9 Axes>"
      ]
     },
     "metadata": {
      "needs_background": "light"
     },
     "output_type": "display_data"
    }
   ],
   "source": [
    "## ======== Boxplot of TCA-dim vs Acc Each Subject Separate Models ======== ##\n",
    "# Necessary variables\n",
    "nrow, ncol = 3, 3\n",
    "models = ['CSP-TCA-SVM', 'EA-CSP-TCA-SVM']\n",
    "m = models[0]\n",
    "data = data_copy\n",
    "\n",
    "# For each model\n",
    "for m in models:\n",
    "    # Plot\n",
    "    fig, axes = plt.subplots(nrow, ncol, figsize=(10, 8), dpi=70, sharey=True)\n",
    "    fig.suptitle(f'TCA dimension vs Accuracy on {m}', fontsize='15')\n",
    "\n",
    "    for ax, s in zip(axes.ravel(), TL_data['tgt'].keys()):\n",
    "        ax.set_title(f'Subject {s}')\n",
    "        ax.set_ylim([40, 105])\n",
    "        ax.set_xlabel('ndim', fontsize=12)\n",
    "        sns.boxplot(data=data[m][s]['df'], ax=ax)\n",
    "\n",
    "    [ax.set_ylabel('Accuracy', fontsize=12) for ax in axes[:, 0]]\n",
    "    fig.tight_layout(pad=1)\n",
    "\n",
    "plt.show()"
   ]
  },
  {
   "cell_type": "code",
   "execution_count": 41,
   "metadata": {},
   "outputs": [],
   "source": [
    "# Which data to concat\n",
    "data = data_copy\n",
    "\n",
    "# Stack df over all subjects\n",
    "for m in models:\n",
    "    df_empty = pd.DataFrame()\n",
    "    for s in TL_data['tgt'].keys():\n",
    "        df_empty = pd.concat([df_empty, data[m][s]['df']], axis=0)\n",
    "    \n",
    "    data[m]['df'] = df_empty"
   ]
  },
  {
   "cell_type": "code",
   "execution_count": 42,
   "metadata": {},
   "outputs": [
    {
     "data": {
      "image/png": "[encoded data removed]",
      "text/plain": [
       "<Figure size 840x350 with 2 Axes>"
      ]
     },
     "metadata": {
      "needs_background": "light"
     },
     "output_type": "display_data"
    }
   ],
   "source": [
    "## ======== Boxplot of TCA-dim vs Acc All Subjects Separate Models ======== ##\n",
    "# Necessary variables\n",
    "nrow, ncol = 1, 2\n",
    "models = ['CSP-TCA-SVM', 'EA-CSP-TCA-SVM']\n",
    "data = data_copy\n",
    "\n",
    "# Plot\n",
    "fig, axes = plt.subplots(nrow, ncol, figsize=(12, 5), dpi=70, sharey=True)\n",
    "fig.suptitle(f'TCA dimension vs Accuracy All Subjects', fontsize='15')\n",
    "\n",
    "# For each model\n",
    "for ax, m in zip(axes.ravel(), models):\n",
    "    ax.set_title(f'{m}')\n",
    "    ax.set_xlabel('ndim', fontsize=12)\n",
    "    sns.boxplot(data=data[m]['df'], ax=ax)\n",
    "\n",
    "axes[0].set_ylabel('Accuracy', fontsize=12)\n",
    "plt.show()"
   ]
  },
  {
   "cell_type": "code",
   "execution_count": null,
   "metadata": {},
   "outputs": [],
   "source": []
  },
  {
   "cell_type": "markdown",
   "metadata": {},
   "source": [
    "## `ker-type` vs `acc`\n",
    "**Goal**: Finding the best pair SVM kernel and TCA kernel, does it affect the accuracy?\n",
    "\n",
    "**Note:**: \n",
    "* Select n-dim = 4\n",
    "* Do I have to set kernel in svm classifier as well?"
   ]
  },
  {
   "cell_type": "code",
   "execution_count": 313,
   "metadata": {},
   "outputs": [],
   "source": [
    "%%capture\n",
    "# Iterate each subject over different dimension\n",
    "ker_sc    = {}\n",
    "n_iter    = 5\n",
    "models    = ['CSP-TCA-SVM', 'EA-CSP-TCA-SVM']\n",
    "kernels   = ['linear', 'poly', 'rbf']\n",
    "tca_dim   = 4\n",
    "\n",
    "for m in models:\n",
    "    ker_sc[m] = {}\n",
    "    \n",
    "    for s in TL_data['tgt'].keys():\n",
    "        ker_sc[m][s] = {}\n",
    "        \n",
    "        # Iterate over kernels for svm\n",
    "        for svm_k in kernels:\n",
    "            ker_sc[m][s][f'svm-{svm_k}'] = {}\n",
    "        \n",
    "            # Iterate over kernels for tca\n",
    "            for tca_k in kernels:\n",
    "                ker_sc[m][s][f'svm-{svm_k}'][f'tca-{tca_k}'] = \\\n",
    "                eval_all_ver6(TL_data, tgt_subj=s, model=m, n_sim=3, tca_ker=tca_k, svm_ker=svm_k, tca_dim=dim, n_samp=30, n_iter=n_iter, return_mean=False)"
   ]
  },
  {
   "cell_type": "code",
   "execution_count": 314,
   "metadata": {},
   "outputs": [],
   "source": [
    "# === Creating DataFrame Combination of TCA kernel and SVM kernel === #\n",
    "df_all = pd.DataFrame()\n",
    "for m in models:\n",
    "    df_all_subj = pd.DataFrame()\n",
    "    for s in range(1, 10):\n",
    "        df_all_svm_k = pd.DataFrame()\n",
    "        for svm_k in ker_sc[m][s].keys():\n",
    "            df_one_subj_svm = pd.DataFrame(ker_sc[m][s][svm_k])\n",
    "            df_one_subj_svm.index.name = 'iter'\n",
    "            df_one_subj_svm.columns.name = 'tca-kern'\n",
    "            df_one_subj_svm['svm-kern'] = svm_k\n",
    "            df_one_subj_svm['model'] = m\n",
    "            df_one_subj_svm['subj'] = s\n",
    "            df_one_subj_svm = df_one_subj_svm.melt(id_vars=['subj', 'svm-kern', 'model'], value_vars=['tca-linear', 'tca-poly', 'tca-rbf'], \\\n",
    "                                                   var_name=['tca-kern'], value_name='acc', ignore_index=False)\n",
    "            \n",
    "            # Concat all svm kernel\n",
    "            df_all_svm_k = pd.concat([df_all_svm_k, df_one_subj_svm])\n",
    "\n",
    "        # Concat over all subject\n",
    "        df_all_subj = pd.concat([df_all_subj, df_all_svm_k])\n",
    "\n",
    "    # Concat over all models\n",
    "    df_all = pd.concat([df_all, df_all_subj])"
   ]
  },
  {
   "cell_type": "code",
   "execution_count": 316,
   "metadata": {},
   "outputs": [
    {
     "data": {
      "image/png": "[encoded data removed]",
      "text/plain": [
       "<Figure size 1080x360 with 4 Axes>"
      ]
     },
     "metadata": {
      "needs_background": "light"
     },
     "output_type": "display_data"
    }
   ],
   "source": [
    "# Variable\n",
    "nrow = 1\n",
    "ncol = 3\n",
    "fsize = (15, 5)\n",
    "kernels   = ['linear', 'poly', 'rbf']\n",
    "data = df_all\n",
    "\n",
    "# Plot\n",
    "fig, axes = plt.subplots(nrow, ncol, figsize=fsize, sharey=True)\n",
    "\n",
    "fig.add_subplot(111, frameon=False)\n",
    "\n",
    "for kern, ax, in zip(kernels, axes.ravel()):\n",
    "    svm_kern_val = f'svm-{kern}' \n",
    "    # print(svm_kern_val)\n",
    "    ax.set_title(f'SVM {kern}')\n",
    "    sns.boxplot(x='tca-kern', y='acc', hue='model', data=data[data['svm-kern'] == svm_kern_val], ax=ax)\n",
    "    handles, labels = ax.get_legend_handles_labels()\n",
    "    ax.legend_.remove()\n",
    "    ax.set(ylabel='', xlabel='')\n",
    "\n",
    "ax.legend(handles, labels, loc='upper left', bbox_to_anchor=(1.01, 1))\n",
    "plt.tick_params(labelcolor='none')\n",
    "plt.grid(False)\n",
    "plt.xlabel('TCA kernel', fontsize=12)\n",
    "plt.ylabel('Accuracy', fontsize=12)\n",
    "plt.show()"
   ]
  },
  {
   "cell_type": "code",
   "execution_count": 326,
   "metadata": {},
   "outputs": [
    {
     "data": {
      "image/png": "[encoded data removed]",
      "text/plain": [
       "<Figure size 432x288 with 1 Axes>"
      ]
     },
     "metadata": {
      "needs_background": "light"
     },
     "output_type": "display_data"
    }
   ],
   "source": [
    "fig, ax = plt.subplots()\n",
    "fig.suptitle('Best TCA Kernel for Any SVM Kernel')\n",
    "ax = sns.boxplot(x='tca-kern', y='acc', data=df_all, hue='model')\n",
    "ax.legend(loc='upper left', bbox_to_anchor=(1.02, 1))\n",
    "ax.set_ylabel('Accuracy', fontsize=12)\n",
    "ax.set_xlabel('TCA kernel', fontsize=12)\n",
    "plt.show()"
   ]
  },
  {
   "cell_type": "code",
   "execution_count": null,
   "metadata": {},
   "outputs": [],
   "source": []
  },
  {
   "cell_type": "code",
   "execution_count": null,
   "metadata": {},
   "outputs": [],
   "source": []
  },
  {
   "cell_type": "code",
   "execution_count": null,
   "metadata": {},
   "outputs": [],
   "source": []
  },
  {
   "cell_type": "code",
   "execution_count": null,
   "metadata": {},
   "outputs": [],
   "source": []
  },
  {
   "cell_type": "code",
   "execution_count": 233,
   "metadata": {},
   "outputs": [
    {
     "data": {
      "text/plain": [
       "Text(0, 0.5, 'asdf')"
      ]
     },
     "execution_count": 233,
     "metadata": {},
     "output_type": "execute_result"
    },
    {
     "data": {
      "image/png": "[encoded data removed]",
      "text/plain": [
       "<Figure size 432x288 with 1 Axes>"
      ]
     },
     "metadata": {
      "needs_background": "light"
     },
     "output_type": "display_data"
    }
   ],
   "source": [
    "fig, axes = plt.subplots(1,1)\n",
    "\n",
    "type(fig)\n",
    "type(axes)\n",
    "\n",
    "fig.text(0, 0.5, s='asdf', ha='right', rotation='vertical', fontsize=15)"
   ]
  },
  {
   "cell_type": "code",
   "execution_count": 258,
   "metadata": {},
   "outputs": [
    {
     "data": {
      "text/plain": [
       "<matplotlib.image.AxesImage at 0x2514a2da088>"
      ]
     },
     "execution_count": 258,
     "metadata": {},
     "output_type": "execute_result"
    },
    {
     "data": {
      "image/png": "[encoded data removed]",
      "text/plain": [
       "<Figure size 432x288 with 2 Axes>"
      ]
     },
     "metadata": {
      "needs_background": "light"
     },
     "output_type": "display_data"
    }
   ],
   "source": [
    "fig2 = plt.figure()\n",
    "ax3 = fig2.add_subplot(2,1,1)\n",
    "ax4 = fig2.add_subplot(2,1,2)\n",
    "ax4.imshow(np.random.randn(20, 20))\n",
    "ax3.imshow(np.random.randn(20, 20))"
   ]
  },
  {
   "cell_type": "code",
   "execution_count": 266,
   "metadata": {},
   "outputs": [
    {
     "data": {
      "text/plain": [
       "matplotlib.axes._subplots.AxesSubplot"
      ]
     },
     "execution_count": 266,
     "metadata": {},
     "output_type": "execute_result"
    }
   ],
   "source": [
    "type(bigax)"
   ]
  },
  {
   "cell_type": "code",
   "execution_count": 197,
   "metadata": {},
   "outputs": [
    {
     "data": {
      "text/plain": [
       "<AxesSubplot:xlabel='tca-kern', ylabel='acc'>"
      ]
     },
     "execution_count": 197,
     "metadata": {},
     "output_type": "execute_result"
    },
    {
     "data": {
      "image/png": "[encoded data removed]",
      "text/plain": [
       "<Figure size 432x288 with 1 Axes>"
      ]
     },
     "metadata": {
      "needs_background": "light"
     },
     "output_type": "display_data"
    }
   ],
   "source": [
    "sns.boxplot(x='tca-kern', y='acc', hue='subj', data=df_all[df_all['svm-kern'] == 'svm-rbf'])"
   ]
  },
  {
   "cell_type": "code",
   "execution_count": null,
   "metadata": {},
   "outputs": [],
   "source": []
  },
  {
   "cell_type": "code",
   "execution_count": 104,
   "metadata": {},
   "outputs": [
    {
     "data": {
      "text/html": [
       "<div>\n",
       "<style scoped>\n",
       "    .dataframe tbody tr th:only-of-type {\n",
       "        vertical-align: middle;\n",
       "    }\n",
       "\n",
       "    .dataframe tbody tr th {\n",
       "        vertical-align: top;\n",
       "    }\n",
       "\n",
       "    .dataframe thead th {\n",
       "        text-align: right;\n",
       "    }\n",
       "</style>\n",
       "<table border=\"1\" class=\"dataframe\">\n",
       "  <thead>\n",
       "    <tr style=\"text-align: right;\">\n",
       "      <th>TCA kern</th>\n",
       "      <th>tca-linear</th>\n",
       "      <th>tca-poly</th>\n",
       "      <th>tca-rbf</th>\n",
       "      <th>SVM kern</th>\n",
       "      <th>subj</th>\n",
       "    </tr>\n",
       "    <tr>\n",
       "      <th>iter</th>\n",
       "      <th></th>\n",
       "      <th></th>\n",
       "      <th></th>\n",
       "      <th></th>\n",
       "      <th></th>\n",
       "    </tr>\n",
       "  </thead>\n",
       "  <tbody>\n",
       "    <tr>\n",
       "      <th>0</th>\n",
       "      <td>24.856259</td>\n",
       "      <td>21.477047</td>\n",
       "      <td>83.468121</td>\n",
       "      <td>linear</td>\n",
       "      <td>1</td>\n",
       "    </tr>\n",
       "    <tr>\n",
       "      <th>1</th>\n",
       "      <td>11.074848</td>\n",
       "      <td>66.410870</td>\n",
       "      <td>98.570201</td>\n",
       "      <td>linear</td>\n",
       "      <td>1</td>\n",
       "    </tr>\n",
       "    <tr>\n",
       "      <th>2</th>\n",
       "      <td>54.647140</td>\n",
       "      <td>22.171497</td>\n",
       "      <td>67.408241</td>\n",
       "      <td>linear</td>\n",
       "      <td>1</td>\n",
       "    </tr>\n",
       "    <tr>\n",
       "      <th>3</th>\n",
       "      <td>93.666758</td>\n",
       "      <td>23.778166</td>\n",
       "      <td>97.318398</td>\n",
       "      <td>linear</td>\n",
       "      <td>1</td>\n",
       "    </tr>\n",
       "    <tr>\n",
       "      <th>4</th>\n",
       "      <td>13.476948</td>\n",
       "      <td>99.908525</td>\n",
       "      <td>96.911747</td>\n",
       "      <td>linear</td>\n",
       "      <td>1</td>\n",
       "    </tr>\n",
       "  </tbody>\n",
       "</table>\n",
       "</div>"
      ],
      "text/plain": [
       "TCA kern  tca-linear   tca-poly    tca-rbf SVM kern  subj\n",
       "iter                                                     \n",
       "0          24.856259  21.477047  83.468121   linear     1\n",
       "1          11.074848  66.410870  98.570201   linear     1\n",
       "2          54.647140  22.171497  67.408241   linear     1\n",
       "3          93.666758  23.778166  97.318398   linear     1\n",
       "4          13.476948  99.908525  96.911747   linear     1"
      ]
     },
     "execution_count": 104,
     "metadata": {},
     "output_type": "execute_result"
    }
   ],
   "source": [
    "df_svm"
   ]
  },
  {
   "cell_type": "code",
   "execution_count": null,
   "metadata": {},
   "outputs": [],
   "source": []
  },
  {
   "cell_type": "code",
   "execution_count": null,
   "metadata": {},
   "outputs": [],
   "source": []
  },
  {
   "cell_type": "code",
   "execution_count": null,
   "metadata": {},
   "outputs": [],
   "source": []
  },
  {
   "cell_type": "code",
   "execution_count": 49,
   "metadata": {},
   "outputs": [
    {
     "data": {
      "text/plain": [
       "{'C': 1.0,\n",
       " 'break_ties': False,\n",
       " 'cache_size': 200,\n",
       " 'class_weight': None,\n",
       " 'coef0': 0.0,\n",
       " 'decision_function_shape': 'ovr',\n",
       " 'degree': 3,\n",
       " 'gamma': 'scale',\n",
       " 'kernel': 'poly',\n",
       " 'max_iter': -1,\n",
       " 'probability': False,\n",
       " 'random_state': None,\n",
       " 'shrinking': True,\n",
       " 'tol': 0.001,\n",
       " 'verbose': False}"
      ]
     },
     "execution_count": 49,
     "metadata": {},
     "output_type": "execute_result"
    }
   ],
   "source": [
    "clf = SVC(kernel='poly')\n",
    "clf.get_params()"
   ]
  },
  {
   "cell_type": "code",
   "execution_count": 64,
   "metadata": {},
   "outputs": [],
   "source": [
    "from sklearn.model_selection import train_test_split, cross_val_score"
   ]
  },
  {
   "cell_type": "code",
   "execution_count": 58,
   "metadata": {},
   "outputs": [],
   "source": [
    "X, y = sklearn.datasets.load_iris(return_X_y=True)"
   ]
  },
  {
   "cell_type": "code",
   "execution_count": 62,
   "metadata": {},
   "outputs": [
    {
     "name": "stdout",
     "output_type": "stream",
     "text": [
      "(50, 4)\n",
      "(100, 4)\n"
     ]
    }
   ],
   "source": [
    "X_tr, X_te, y_tr, y_te = sklearn.model_selection.train_test_split(X, y, train_size=50)\n",
    "print(X_tr.shape)\n",
    "print(X_te.shape)"
   ]
  },
  {
   "cell_type": "code",
   "execution_count": 68,
   "metadata": {},
   "outputs": [
    {
     "name": "stdout",
     "output_type": "stream",
     "text": [
      "Currently using linear\n",
      "5-CV Result: [ 0.967  1.000  0.967  0.967  1.000]\n",
      "Currently using poly\n",
      "5-CV Result: [ 0.967  1.000  0.900  0.967  1.000]\n",
      "Currently using rbf\n",
      "5-CV Result: [ 0.967  0.967  0.967  0.933  1.000]\n"
     ]
    }
   ],
   "source": [
    "for k in ['linear', 'poly', 'rbf']:\n",
    "    clf = SVC(kernel=k, coef0=1, degree=3)\n",
    "    print(f'Currently using {clf.kernel}')\n",
    "    print(f'5-CV Result: {cross_val_score(clf, X, y, cv=5)}')"
   ]
  },
  {
   "cell_type": "code",
   "execution_count": 66,
   "metadata": {},
   "outputs": [
    {
     "data": {
      "text/plain": [
       "array([ 0.967,  1.000,  0.967,  0.967,  1.000])"
      ]
     },
     "execution_count": 66,
     "metadata": {},
     "output_type": "execute_result"
    }
   ],
   "source": [
    "cross_val_score(clf, X, y, cv=5)"
   ]
  },
  {
   "cell_type": "code",
   "execution_count": null,
   "metadata": {},
   "outputs": [],
   "source": []
  },
  {
   "cell_type": "code",
   "execution_count": null,
   "metadata": {},
   "outputs": [],
   "source": []
  },
  {
   "cell_type": "markdown",
   "metadata": {},
   "source": [
    "## `distance metric` vs `acc`"
   ]
  },
  {
   "cell_type": "code",
   "execution_count": null,
   "metadata": {},
   "outputs": [],
   "source": []
  },
  {
   "cell_type": "code",
   "execution_count": null,
   "metadata": {},
   "outputs": [],
   "source": []
  },
  {
   "cell_type": "code",
   "execution_count": null,
   "metadata": {},
   "outputs": [],
   "source": []
  },
  {
   "cell_type": "code",
   "execution_count": null,
   "metadata": {},
   "outputs": [],
   "source": []
  },
  {
   "cell_type": "markdown",
   "metadata": {},
   "source": [
    "## `n_src_raw` vs `acc` "
   ]
  },
  {
   "cell_type": "code",
   "execution_count": null,
   "metadata": {},
   "outputs": [],
   "source": []
  },
  {
   "cell_type": "code",
   "execution_count": null,
   "metadata": {},
   "outputs": [],
   "source": []
  },
  {
   "cell_type": "code",
   "execution_count": null,
   "metadata": {},
   "outputs": [],
   "source": []
  },
  {
   "cell_type": "code",
   "execution_count": null,
   "metadata": {},
   "outputs": [],
   "source": []
  },
  {
   "cell_type": "code",
   "execution_count": null,
   "metadata": {},
   "outputs": [],
   "source": []
  },
  {
   "cell_type": "code",
   "execution_count": null,
   "metadata": {},
   "outputs": [],
   "source": []
  },
  {
   "cell_type": "markdown",
   "metadata": {},
   "source": [
    "## p-value"
   ]
  },
  {
   "cell_type": "code",
   "execution_count": null,
   "metadata": {},
   "outputs": [],
   "source": [
    "%%capture\n",
    "pval_sc6 = {}\n",
    "# Models\n",
    "models = ['CSP-SVM', 'CSP-TCA-SVM', 'EA-CSP-SVM', , 'EA-CSP-TCA-SVM']\n",
    "# models = ['CSP-TCA-SVM', 'EA-CSP-TCA-SVM']\n",
    "# models = ['CSP-SVM', 'CSP-TCA-SVM']\n",
    "\n",
    "# Iterate over all tgt subj\n",
    "for m in models:\n",
    "    pval_sc6[m] = {}\n",
    "    \n",
    "    for s in TL_data['tgt'].keys():\n",
    "        pval_sc6[m][s] = eval_all_ver6(TL_data, tgt_subj=s, ker_typ='rbf', tca_dim=4, model=m, n_sim=3, n_samp=30, n_iter=30, return_all=True)"
   ]
  },
  {
   "cell_type": "code",
   "execution_count": 56,
   "metadata": {},
   "outputs": [
    {
     "name": "stdout",
     "output_type": "stream",
     "text": [
      "dict_keys([1, 2, 3, 4, 5, 6, 7, 8, 9])\n",
      "dict_keys([1, 2, 3, 4, 5, 6, 7, 8, 9])\n",
      "dict_keys([1, 2, 3, 4, 5, 6, 7, 8, 9])\n",
      "\n",
      "[ 0.730  0.630  0.600  0.600  0.630  0.570  0.600  0.630  0.670  0.630\n",
      "  0.630  0.630  0.670  0.500  0.630  0.700  0.670  0.600  0.700  0.630\n",
      "  0.700  0.770  0.700  0.700  0.670  0.570  0.670  0.730  0.670  0.630]\n"
     ]
    }
   ],
   "source": [
    "# Try calculating p-value\n",
    "print(pval_sc6['CSP-SVM'].keys())\n",
    "print(pval_sc6['CSP-TCA-SVM'].keys())\n",
    "print(pval_sc6['EA-CSP-TCA-SVM'].keys())\n",
    "print('')\n",
    "print(np.round(pval_sc6['CSP-SVM'][1], 2))"
   ]
  },
  {
   "cell_type": "code",
   "execution_count": 57,
   "metadata": {},
   "outputs": [],
   "source": [
    "a = pval_sc6['CSP-SVM'][1]\n",
    "b = pval_sc6['CSP-TCA-SVM'][1]"
   ]
  },
  {
   "cell_type": "code",
   "execution_count": 58,
   "metadata": {},
   "outputs": [],
   "source": [
    "from scipy import stats"
   ]
  },
  {
   "cell_type": "code",
   "execution_count": 59,
   "metadata": {
    "jupyter": {
     "source_hidden": true
    }
   },
   "outputs": [
    {
     "name": "stdout",
     "output_type": "stream",
     "text": [
      "p value between CSP-SVM and CSP-TCA-SVM\n",
      "=============================================\n",
      "p value between CSP-SVM and CSP-TCA-SVM : 0.385\n",
      "p value between CSP-SVM and CSP-TCA-SVM : 3.85e-01\n"
     ]
    }
   ],
   "source": [
    "data = pval_sc6\n",
    "subjects = range(1, 10)\n",
    "models = ['CSP-SVM','CSP-TCA-SVM', 'EA-CSP-TCA-SVM']\n",
    "m1 = 0\n",
    "m2 = 1\n",
    "\n",
    "print(f'p value between {models[m1]} and {models[m2]}')\n",
    "print('==='*15)\n",
    "\n",
    "if len(data[models[m2]]) != len(data[models[m1]]):\n",
    "    print('undefined')\n",
    "\n",
    "# Collect pval\n",
    "all_pval = []\n",
    "\n",
    "data1 = np.array([])\n",
    "data2 = np.array([])\n",
    "\n",
    "for s in subjects:\n",
    "    #print(s)\n",
    "    data1 = np.concatenate([data1, pval_sc6[models[m1]][s]])\n",
    "    data2 = np.concatenate([data2, pval_sc6[models[m2]][s]])\n",
    "\n",
    "# print(len(data1))\n",
    "# print(len(data2))\n",
    "\n",
    "_, pval = stats.ttest_ind(a=data1, b=data2, equal_var=False)\n",
    "# print(f'pval between model {models[m1]} and {models[m2]} of subject {s} is {pval:3f} ')\n",
    "# all_pval.append(pval)\n",
    "\n",
    "# print('==='*15)\n",
    "print(f'p value between {models[m1]} and {models[m2]} : {pval:.3f}')\n",
    "print(f'p value between {models[m1]} and {models[m2]} : {pval:.2e}')"
   ]
  },
  {
   "cell_type": "code",
   "execution_count": null,
   "metadata": {},
   "outputs": [],
   "source": []
  },
  {
   "cell_type": "code",
   "execution_count": null,
   "metadata": {},
   "outputs": [],
   "source": []
  },
  {
   "cell_type": "code",
   "execution_count": null,
   "metadata": {},
   "outputs": [],
   "source": []
  },
  {
   "cell_type": "code",
   "execution_count": null,
   "metadata": {},
   "outputs": [],
   "source": []
  },
  {
   "cell_type": "code",
   "execution_count": null,
   "metadata": {},
   "outputs": [],
   "source": []
  },
  {
   "cell_type": "code",
   "execution_count": null,
   "metadata": {},
   "outputs": [],
   "source": []
  },
  {
   "cell_type": "markdown",
   "metadata": {},
   "source": [
    "# Misc"
   ]
  },
  {
   "cell_type": "code",
   "execution_count": 188,
   "metadata": {},
   "outputs": [],
   "source": [
    "df = pd.DataFrame({'temp_c': [17.0, 25.0]},\n",
    "                  index=['Portland', 'Berkeley'])"
   ]
  },
  {
   "cell_type": "code",
   "execution_count": 189,
   "metadata": {},
   "outputs": [
    {
     "data": {
      "text/html": [
       "<div>\n",
       "<style scoped>\n",
       "    .dataframe tbody tr th:only-of-type {\n",
       "        vertical-align: middle;\n",
       "    }\n",
       "\n",
       "    .dataframe tbody tr th {\n",
       "        vertical-align: top;\n",
       "    }\n",
       "\n",
       "    .dataframe thead th {\n",
       "        text-align: right;\n",
       "    }\n",
       "</style>\n",
       "<table border=\"1\" class=\"dataframe\">\n",
       "  <thead>\n",
       "    <tr style=\"text-align: right;\">\n",
       "      <th></th>\n",
       "      <th>temp_c</th>\n",
       "    </tr>\n",
       "  </thead>\n",
       "  <tbody>\n",
       "    <tr>\n",
       "      <th>Portland</th>\n",
       "      <td>17.0</td>\n",
       "    </tr>\n",
       "    <tr>\n",
       "      <th>Berkeley</th>\n",
       "      <td>25.0</td>\n",
       "    </tr>\n",
       "  </tbody>\n",
       "</table>\n",
       "</div>"
      ],
      "text/plain": [
       "          temp_c\n",
       "Portland    17.0\n",
       "Berkeley    25.0"
      ]
     },
     "execution_count": 189,
     "metadata": {},
     "output_type": "execute_result"
    }
   ],
   "source": [
    "df"
   ]
  },
  {
   "cell_type": "code",
   "execution_count": 196,
   "metadata": {},
   "outputs": [
    {
     "data": {
      "text/html": [
       "<div>\n",
       "<style scoped>\n",
       "    .dataframe tbody tr th:only-of-type {\n",
       "        vertical-align: middle;\n",
       "    }\n",
       "\n",
       "    .dataframe tbody tr th {\n",
       "        vertical-align: top;\n",
       "    }\n",
       "\n",
       "    .dataframe thead th {\n",
       "        text-align: right;\n",
       "    }\n",
       "</style>\n",
       "<table border=\"1\" class=\"dataframe\">\n",
       "  <thead>\n",
       "    <tr style=\"text-align: right;\">\n",
       "      <th></th>\n",
       "      <th>temp_c</th>\n",
       "      <th>laa</th>\n",
       "    </tr>\n",
       "  </thead>\n",
       "  <tbody>\n",
       "    <tr>\n",
       "      <th>Portland</th>\n",
       "      <td>17.0</td>\n",
       "      <td>asdf</td>\n",
       "    </tr>\n",
       "    <tr>\n",
       "      <th>Berkeley</th>\n",
       "      <td>25.0</td>\n",
       "      <td>asdf</td>\n",
       "    </tr>\n",
       "  </tbody>\n",
       "</table>\n",
       "</div>"
      ],
      "text/plain": [
       "          temp_c   laa\n",
       "Portland    17.0  asdf\n",
       "Berkeley    25.0  asdf"
      ]
     },
     "execution_count": 196,
     "metadata": {},
     "output_type": "execute_result"
    }
   ],
   "source": [
    "df.assign(laa='asdf')"
   ]
  },
  {
   "cell_type": "code",
   "execution_count": 201,
   "metadata": {},
   "outputs": [],
   "source": [
    "A = {}\n",
    "A[1] = {}\n",
    "A[1][1] = np.random.uniform(10, 100, 10)\n",
    "A[1][2] = np.random.uniform(10, 100, 10)\n",
    "A[1][3] = np.random.uniform(10, 100, 10)\n",
    "\n",
    "A[2] = {}\n",
    "A[2][1] = np.random.uniform(10, 100, 10)\n",
    "A[2][2] = np.random.uniform(10, 100, 10)\n",
    "A[2][3] = np.random.uniform(10, 100, 10)"
   ]
  },
  {
   "cell_type": "code",
   "execution_count": 202,
   "metadata": {},
   "outputs": [
    {
     "data": {
      "text/plain": [
       "{1: {1: array([ 31.292,  63.906,  84.485,  77.617,  91.445,  99.252,  90.589,\n",
       "          30.226,  81.039,  32.984]),\n",
       "  2: array([ 92.616,  96.668,  95.834,  22.878,  83.009,  76.143,  65.963,\n",
       "          11.001,  13.601,  91.036]),\n",
       "  3: array([ 53.190,  49.582,  14.050,  34.763,  36.176,  47.502,  99.191,\n",
       "          61.195,  38.496,  25.345])},\n",
       " 2: {1: array([ 86.359,  82.475,  98.651,  57.488,  25.825,  68.613,  39.096,\n",
       "          35.606,  32.458,  45.721]),\n",
       "  2: array([ 63.852,  32.474,  76.718,  42.356,  66.464,  68.060,  60.767,\n",
       "          28.845,  22.672,  41.746]),\n",
       "  3: array([ 61.975,  77.272,  65.198,  65.979,  67.848,  84.035,  85.444,\n",
       "          86.958,  57.353,  61.948])}}"
      ]
     },
     "execution_count": 202,
     "metadata": {},
     "output_type": "execute_result"
    }
   ],
   "source": [
    "A"
   ]
  },
  {
   "cell_type": "code",
   "execution_count": 204,
   "metadata": {},
   "outputs": [
    {
     "data": {
      "text/html": [
       "<div>\n",
       "<style scoped>\n",
       "    .dataframe tbody tr th:only-of-type {\n",
       "        vertical-align: middle;\n",
       "    }\n",
       "\n",
       "    .dataframe tbody tr th {\n",
       "        vertical-align: top;\n",
       "    }\n",
       "\n",
       "    .dataframe thead th {\n",
       "        text-align: right;\n",
       "    }\n",
       "</style>\n",
       "<table border=\"1\" class=\"dataframe\">\n",
       "  <thead>\n",
       "    <tr style=\"text-align: right;\">\n",
       "      <th></th>\n",
       "      <th>1</th>\n",
       "      <th>2</th>\n",
       "      <th>3</th>\n",
       "    </tr>\n",
       "  </thead>\n",
       "  <tbody>\n",
       "    <tr>\n",
       "      <th>0</th>\n",
       "      <td>31.292015</td>\n",
       "      <td>92.616138</td>\n",
       "      <td>53.190458</td>\n",
       "    </tr>\n",
       "    <tr>\n",
       "      <th>1</th>\n",
       "      <td>63.906459</td>\n",
       "      <td>96.668320</td>\n",
       "      <td>49.581634</td>\n",
       "    </tr>\n",
       "    <tr>\n",
       "      <th>2</th>\n",
       "      <td>84.484517</td>\n",
       "      <td>95.833826</td>\n",
       "      <td>14.049756</td>\n",
       "    </tr>\n",
       "    <tr>\n",
       "      <th>3</th>\n",
       "      <td>77.617049</td>\n",
       "      <td>22.877565</td>\n",
       "      <td>34.763202</td>\n",
       "    </tr>\n",
       "    <tr>\n",
       "      <th>4</th>\n",
       "      <td>91.445162</td>\n",
       "      <td>83.009177</td>\n",
       "      <td>36.176079</td>\n",
       "    </tr>\n",
       "    <tr>\n",
       "      <th>5</th>\n",
       "      <td>99.251915</td>\n",
       "      <td>76.142659</td>\n",
       "      <td>47.501895</td>\n",
       "    </tr>\n",
       "    <tr>\n",
       "      <th>6</th>\n",
       "      <td>90.588588</td>\n",
       "      <td>65.963404</td>\n",
       "      <td>99.190883</td>\n",
       "    </tr>\n",
       "    <tr>\n",
       "      <th>7</th>\n",
       "      <td>30.225910</td>\n",
       "      <td>11.000533</td>\n",
       "      <td>61.195350</td>\n",
       "    </tr>\n",
       "    <tr>\n",
       "      <th>8</th>\n",
       "      <td>81.039496</td>\n",
       "      <td>13.601080</td>\n",
       "      <td>38.495873</td>\n",
       "    </tr>\n",
       "    <tr>\n",
       "      <th>9</th>\n",
       "      <td>32.983806</td>\n",
       "      <td>91.035574</td>\n",
       "      <td>25.345227</td>\n",
       "    </tr>\n",
       "  </tbody>\n",
       "</table>\n",
       "</div>"
      ],
      "text/plain": [
       "           1          2          3\n",
       "0  31.292015  92.616138  53.190458\n",
       "1  63.906459  96.668320  49.581634\n",
       "2  84.484517  95.833826  14.049756\n",
       "3  77.617049  22.877565  34.763202\n",
       "4  91.445162  83.009177  36.176079\n",
       "5  99.251915  76.142659  47.501895\n",
       "6  90.588588  65.963404  99.190883\n",
       "7  30.225910  11.000533  61.195350\n",
       "8  81.039496  13.601080  38.495873\n",
       "9  32.983806  91.035574  25.345227"
      ]
     },
     "execution_count": 204,
     "metadata": {},
     "output_type": "execute_result"
    }
   ],
   "source": [
    "dframe(A[1])"
   ]
  },
  {
   "cell_type": "code",
   "execution_count": null,
   "metadata": {},
   "outputs": [],
   "source": []
  },
  {
   "cell_type": "code",
   "execution_count": null,
   "metadata": {},
   "outputs": [],
   "source": []
  },
  {
   "cell_type": "code",
   "execution_count": null,
   "metadata": {},
   "outputs": [],
   "source": []
  },
  {
   "cell_type": "code",
   "execution_count": null,
   "metadata": {},
   "outputs": [],
   "source": []
  },
  {
   "cell_type": "code",
   "execution_count": null,
   "metadata": {},
   "outputs": [],
   "source": []
  },
  {
   "cell_type": "code",
   "execution_count": 123,
   "metadata": {},
   "outputs": [],
   "source": [
    "A = {}\n",
    "A['subj'] = [1]*5 + [2]*5 +[3]*5 + [4]*5 + [5]*5\n",
    "A['ndim'] = ([1,2,3,4,5])*5\n",
    "A['score']= np.random.uniform(60, 100, 25)"
   ]
  },
  {
   "cell_type": "code",
   "execution_count": 124,
   "metadata": {},
   "outputs": [
    {
     "data": {
      "text/html": [
       "<div>\n",
       "<style scoped>\n",
       "    .dataframe tbody tr th:only-of-type {\n",
       "        vertical-align: middle;\n",
       "    }\n",
       "\n",
       "    .dataframe tbody tr th {\n",
       "        vertical-align: top;\n",
       "    }\n",
       "\n",
       "    .dataframe thead th {\n",
       "        text-align: right;\n",
       "    }\n",
       "</style>\n",
       "<table border=\"1\" class=\"dataframe\">\n",
       "  <thead>\n",
       "    <tr style=\"text-align: right;\">\n",
       "      <th></th>\n",
       "      <th>subj</th>\n",
       "      <th>ndim</th>\n",
       "      <th>score</th>\n",
       "    </tr>\n",
       "  </thead>\n",
       "  <tbody>\n",
       "    <tr>\n",
       "      <th>0</th>\n",
       "      <td>1</td>\n",
       "      <td>1</td>\n",
       "      <td>65.765702</td>\n",
       "    </tr>\n",
       "    <tr>\n",
       "      <th>1</th>\n",
       "      <td>1</td>\n",
       "      <td>2</td>\n",
       "      <td>98.328366</td>\n",
       "    </tr>\n",
       "    <tr>\n",
       "      <th>2</th>\n",
       "      <td>1</td>\n",
       "      <td>3</td>\n",
       "      <td>60.508561</td>\n",
       "    </tr>\n",
       "    <tr>\n",
       "      <th>3</th>\n",
       "      <td>1</td>\n",
       "      <td>4</td>\n",
       "      <td>95.068320</td>\n",
       "    </tr>\n",
       "    <tr>\n",
       "      <th>4</th>\n",
       "      <td>1</td>\n",
       "      <td>5</td>\n",
       "      <td>75.150571</td>\n",
       "    </tr>\n",
       "  </tbody>\n",
       "</table>\n",
       "</div>"
      ],
      "text/plain": [
       "   subj  ndim      score\n",
       "0     1     1  65.765702\n",
       "1     1     2  98.328366\n",
       "2     1     3  60.508561\n",
       "3     1     4  95.068320\n",
       "4     1     5  75.150571"
      ]
     },
     "execution_count": 124,
     "metadata": {},
     "output_type": "execute_result"
    }
   ],
   "source": [
    "dfA = dframe(A)\n",
    "dfA.head()"
   ]
  },
  {
   "cell_type": "code",
   "execution_count": 128,
   "metadata": {},
   "outputs": [
    {
     "data": {
      "text/plain": [
       "<AxesSubplot:xlabel='ndim', ylabel='score'>"
      ]
     },
     "execution_count": 128,
     "metadata": {},
     "output_type": "execute_result"
    },
    {
     "data": {
      "image/png": "[encoded data removed]",
      "text/plain": [
       "<Figure size 432x288 with 1 Axes>"
      ]
     },
     "metadata": {
      "needs_background": "light"
     },
     "output_type": "display_data"
    }
   ],
   "source": [
    "sns.boxplot(data=dfA, x='ndim', y='score', hue='ndim')"
   ]
  },
  {
   "cell_type": "code",
   "execution_count": null,
   "metadata": {},
   "outputs": [],
   "source": []
  },
  {
   "cell_type": "code",
   "execution_count": null,
   "metadata": {},
   "outputs": [],
   "source": []
  },
  {
   "cell_type": "code",
   "execution_count": null,
   "metadata": {},
   "outputs": [],
   "source": []
  },
  {
   "cell_type": "code",
   "execution_count": 91,
   "metadata": {},
   "outputs": [
    {
     "data": {
      "text/plain": [
       "[1, 2, 3, 4, 5, 1, 2, 3, 4, 5, 1, 2, 3, 4, 5, 1, 2, 3, 4, 5, 1, 2, 3, 4, 5]"
      ]
     },
     "execution_count": 91,
     "metadata": {},
     "output_type": "execute_result"
    }
   ],
   "source": [
    "([1,2,3,4,5])*5"
   ]
  },
  {
   "cell_type": "code",
   "execution_count": null,
   "metadata": {},
   "outputs": [],
   "source": []
  },
  {
   "cell_type": "code",
   "execution_count": null,
   "metadata": {},
   "outputs": [],
   "source": []
  },
  {
   "cell_type": "code",
   "execution_count": null,
   "metadata": {},
   "outputs": [],
   "source": []
  },
  {
   "cell_type": "code",
   "execution_count": null,
   "metadata": {},
   "outputs": [],
   "source": []
  },
  {
   "cell_type": "code",
   "execution_count": null,
   "metadata": {},
   "outputs": [],
   "source": []
  },
  {
   "cell_type": "code",
   "execution_count": 93,
   "metadata": {},
   "outputs": [],
   "source": [
    "X = TL_data['tgt'][6]['epochs']\n",
    "# Xte = TL_data['tgt'][1]['epochs']\n",
    "y = TL_data['tgt'][6]['y']"
   ]
  },
  {
   "cell_type": "code",
   "execution_count": 94,
   "metadata": {},
   "outputs": [
    {
     "data": {
      "text/plain": [
       "(144, 22, 750)"
      ]
     },
     "execution_count": 94,
     "metadata": {},
     "output_type": "execute_result"
    }
   ],
   "source": [
    "X.shape"
   ]
  },
  {
   "cell_type": "code",
   "execution_count": 101,
   "metadata": {},
   "outputs": [],
   "source": [
    "from sklearn.model_selection import train_test_split\n",
    "from sklearn.discriminant_analysis import LinearDiscriminantAnalysis as LDA\n",
    "from sklearn.svm import SVC"
   ]
  },
  {
   "cell_type": "code",
   "execution_count": 96,
   "metadata": {},
   "outputs": [
    {
     "name": "stdout",
     "output_type": "stream",
     "text": [
      "(115, 22, 750)\n",
      "(29, 22, 750)\n",
      "(115,)\n",
      "(29,)\n"
     ]
    }
   ],
   "source": [
    "Xtr, Xte, ytr, yte = train_test_split(X, y, train_size=.8)\n",
    "\n",
    "print(Xtr.shape)\n",
    "print(Xte.shape)\n",
    "print(ytr.shape)\n",
    "print(yte.shape)"
   ]
  },
  {
   "cell_type": "code",
   "execution_count": 97,
   "metadata": {},
   "outputs": [],
   "source": [
    "feat_train, feat_test = csp_feat_ver1(Xtr, Xte, ytr)"
   ]
  },
  {
   "cell_type": "code",
   "execution_count": 102,
   "metadata": {},
   "outputs": [],
   "source": [
    "lda = LDA()\n",
    "svm = SVC()"
   ]
  },
  {
   "cell_type": "code",
   "execution_count": 103,
   "metadata": {},
   "outputs": [
    {
     "data": {
      "text/plain": [
       "SVC()"
      ]
     },
     "execution_count": 103,
     "metadata": {},
     "output_type": "execute_result"
    }
   ],
   "source": [
    "svm.fit(feat_train, ytr)"
   ]
  },
  {
   "cell_type": "code",
   "execution_count": 104,
   "metadata": {},
   "outputs": [
    {
     "data": {
      "text/plain": [
       "0.6551724137931034"
      ]
     },
     "execution_count": 104,
     "metadata": {},
     "output_type": "execute_result"
    }
   ],
   "source": [
    "svm.score(feat_test, yte)"
   ]
  },
  {
   "cell_type": "code",
   "execution_count": null,
   "metadata": {},
   "outputs": [],
   "source": []
  },
  {
   "cell_type": "code",
   "execution_count": null,
   "metadata": {},
   "outputs": [],
   "source": []
  },
  {
   "cell_type": "code",
   "execution_count": null,
   "metadata": {},
   "outputs": [],
   "source": []
  },
  {
   "cell_type": "code",
   "execution_count": null,
   "metadata": {},
   "outputs": [],
   "source": []
  },
  {
   "cell_type": "code",
   "execution_count": null,
   "metadata": {},
   "outputs": [],
   "source": []
  },
  {
   "cell_type": "code",
   "execution_count": null,
   "metadata": {},
   "outputs": [],
   "source": []
  },
  {
   "cell_type": "code",
   "execution_count": null,
   "metadata": {},
   "outputs": [],
   "source": []
  },
  {
   "cell_type": "code",
   "execution_count": null,
   "metadata": {},
   "outputs": [],
   "source": []
  },
  {
   "cell_type": "code",
   "execution_count": null,
   "metadata": {},
   "outputs": [],
   "source": []
  },
  {
   "cell_type": "code",
   "execution_count": null,
   "metadata": {},
   "outputs": [],
   "source": []
  },
  {
   "cell_type": "code",
   "execution_count": null,
   "metadata": {},
   "outputs": [],
   "source": []
  }
 ],
 "metadata": {
  "kernelspec": {
   "display_name": "eeg-gpu",
   "language": "python",
   "name": "eeg-gpu"
  },
  "language_info": {
   "codemirror_mode": {
    "name": "ipython",
    "version": 3
   },
   "file_extension": ".py",
   "mimetype": "text/x-python",
   "name": "python",
   "nbconvert_exporter": "python",
   "pygments_lexer": "ipython3",
   "version": "3.7.9"
  },
  "toc-autonumbering": false
 },
 "nbformat": 4,
 "nbformat_minor": 4
}
